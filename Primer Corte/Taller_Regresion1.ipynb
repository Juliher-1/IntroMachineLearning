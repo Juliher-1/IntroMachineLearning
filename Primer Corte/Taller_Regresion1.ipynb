{
  "cells": [
    {
      "cell_type": "markdown",
      "id": "cecf7a01",
      "metadata": {
        "id": "cecf7a01"
      },
      "source": [
        "# Análisis Completo de Regresión Lineal\n",
        "\n",
        "Este notebook muestra paso a paso cómo realizar un análisis de **Regresión Lineal** empleando un conjunto de datos que contiene:\n",
        "- **valuationdate**: fecha de valoración (opcional para el modelo)\n",
        "- **revenues**: ingresos\n",
        "- **ebit**: utilidad antes de intereses e impuestos\n",
        "- **depreciation**: depreciación\n",
        "- **capex**: gastos de capital\n",
        "- **ncwc**: cambio en capital de trabajo neto\n",
        "- **bv**: (posiblemente) valor en libros\n",
        "- **y**: variable objetivo que deseamos predecir (por ejemplo, un valor financiero o de valoración)\n",
        "\n",
        "Iremos desde la **carga** y **exploración** del dataset hasta la **interpretación** de coeficientes y la **evaluación** de métricas importantes."
      ]
    },
    {
      "cell_type": "code",
      "source": [
        "!wget https://github.com/javierherrera1996/IntroMachineLearning/raw/refs/heads/main/PrimerCorte/RegresionLineal/enterprise.csv"
      ],
      "metadata": {
        "colab": {
          "base_uri": "https://localhost:8080/"
        },
        "id": "LCuTCvghz5bk",
        "outputId": "bbf70972-623c-4577-8daf-d122e4510e34"
      },
      "id": "LCuTCvghz5bk",
      "execution_count": 4,
      "outputs": [
        {
          "output_type": "stream",
          "name": "stdout",
          "text": [
            "--2025-03-05 22:33:25--  https://github.com/javierherrera1996/IntroMachineLearning/raw/refs/heads/main/PrimerCorte/RegresionLineal/enterprise.csv\n",
            "Resolving github.com (github.com)... 140.82.112.3\n",
            "Connecting to github.com (github.com)|140.82.112.3|:443... connected.\n",
            "HTTP request sent, awaiting response... 302 Found\n",
            "Location: https://raw.githubusercontent.com/javierherrera1996/IntroMachineLearning/refs/heads/main/PrimerCorte/RegresionLineal/enterprise.csv [following]\n",
            "--2025-03-05 22:33:25--  https://raw.githubusercontent.com/javierherrera1996/IntroMachineLearning/refs/heads/main/PrimerCorte/RegresionLineal/enterprise.csv\n",
            "Resolving raw.githubusercontent.com (raw.githubusercontent.com)... 185.199.108.133, 185.199.109.133, 185.199.110.133, ...\n",
            "Connecting to raw.githubusercontent.com (raw.githubusercontent.com)|185.199.108.133|:443... connected.\n",
            "HTTP request sent, awaiting response... 200 OK\n",
            "Length: 82415 (80K) [text/plain]\n",
            "Saving to: ‘enterprise.csv.1’\n",
            "\n",
            "\renterprise.csv.1      0%[                    ]       0  --.-KB/s               \renterprise.csv.1    100%[===================>]  80.48K  --.-KB/s    in 0.02s   \n",
            "\n",
            "2025-03-05 22:33:25 (3.78 MB/s) - ‘enterprise.csv.1’ saved [82415/82415]\n",
            "\n"
          ]
        }
      ]
    },
    {
      "cell_type": "markdown",
      "id": "7ceab41b",
      "metadata": {
        "id": "7ceab41b"
      },
      "source": [
        "## Paso 0: Importar librerías y configuración"
      ]
    },
    {
      "cell_type": "code",
      "source": [
        "import pandas as pd\n",
        "import numpy as np\n",
        "import matplotlib.pyplot as plt\n",
        "import seaborn as sns\n",
        "from sklearn.model_selection import train_test_split\n",
        "from sklearn.linear_model import LinearRegression\n",
        "from sklearn.metrics import mean_squared_error, r2_score\n",
        "from sklearn.preprocessing import StandardScaler"
      ],
      "metadata": {
        "id": "VBuVqncvSKSn"
      },
      "id": "VBuVqncvSKSn",
      "execution_count": 2,
      "outputs": []
    },
    {
      "cell_type": "code",
      "source": [
        "sns.set_style('whitegrid')\n",
        "plt.rcParams['figure.figsize'] = (10, 6)\n",
        "pd.set_option('display.max_columns', None)\n",
        "pd.set_option('display.float_format', lambda x: '%.3f' % x)\n"
      ],
      "metadata": {
        "id": "7_JJD5NKSNmX"
      },
      "id": "7_JJD5NKSNmX",
      "execution_count": 3,
      "outputs": []
    },
    {
      "cell_type": "markdown",
      "id": "871d0c89",
      "metadata": {
        "id": "871d0c89"
      },
      "source": [
        "## Paso 1: Carga y Exploración de Datos (EDA)\n",
        "\n",
        "En este primer bloque, cargaremos nuestro dataset y realizaremos un Análisis Exploratorio básico."
      ]
    },
    {
      "cell_type": "code",
      "source": [
        "df = pd.read_csv('enterprise.csv')"
      ],
      "metadata": {
        "id": "ZUHkB1BfU3mI"
      },
      "id": "ZUHkB1BfU3mI",
      "execution_count": 5,
      "outputs": []
    },
    {
      "cell_type": "code",
      "source": [
        "df.head()"
      ],
      "metadata": {
        "id": "h4K6nUuCU6af",
        "outputId": "a3eb0a64-2882-46d6-a90c-ed92d13c66d4",
        "colab": {
          "base_uri": "https://localhost:8080/",
          "height": 206
        }
      },
      "id": "h4K6nUuCU6af",
      "execution_count": 6,
      "outputs": [
        {
          "output_type": "execute_result",
          "data": {
            "text/plain": [
              "  valuationdate  revenues      ebit  depreciation     capex      ncwc  \\\n",
              "0    30/06/2011 86470.700 10387.500      6429.000  3512.000 16848.900   \n",
              "1    31/12/2010 84754.200 14031.181      8658.600 17172.500 12095.100   \n",
              "2    30/09/2016 15653.480   221.347       647.239   749.478  1468.428   \n",
              "3    30/09/2018 62001.330  7551.762      1808.830  2702.850 11873.255   \n",
              "4    30/09/2014  1242.830   497.142       232.027  1552.908   149.971   \n",
              "\n",
              "         bv          y  \n",
              "0 47945.100  91760.800  \n",
              "1 66804.400 184461.700  \n",
              "2 10128.726  23323.685  \n",
              "3 27144.930 130202.792  \n",
              "4  1463.052  11472.123  "
            ],
            "text/html": [
              "\n",
              "  <div id=\"df-3885c2ae-74ce-4e20-b7c5-d892c090836e\" class=\"colab-df-container\">\n",
              "    <div>\n",
              "<style scoped>\n",
              "    .dataframe tbody tr th:only-of-type {\n",
              "        vertical-align: middle;\n",
              "    }\n",
              "\n",
              "    .dataframe tbody tr th {\n",
              "        vertical-align: top;\n",
              "    }\n",
              "\n",
              "    .dataframe thead th {\n",
              "        text-align: right;\n",
              "    }\n",
              "</style>\n",
              "<table border=\"1\" class=\"dataframe\">\n",
              "  <thead>\n",
              "    <tr style=\"text-align: right;\">\n",
              "      <th></th>\n",
              "      <th>valuationdate</th>\n",
              "      <th>revenues</th>\n",
              "      <th>ebit</th>\n",
              "      <th>depreciation</th>\n",
              "      <th>capex</th>\n",
              "      <th>ncwc</th>\n",
              "      <th>bv</th>\n",
              "      <th>y</th>\n",
              "    </tr>\n",
              "  </thead>\n",
              "  <tbody>\n",
              "    <tr>\n",
              "      <th>0</th>\n",
              "      <td>30/06/2011</td>\n",
              "      <td>86470.700</td>\n",
              "      <td>10387.500</td>\n",
              "      <td>6429.000</td>\n",
              "      <td>3512.000</td>\n",
              "      <td>16848.900</td>\n",
              "      <td>47945.100</td>\n",
              "      <td>91760.800</td>\n",
              "    </tr>\n",
              "    <tr>\n",
              "      <th>1</th>\n",
              "      <td>31/12/2010</td>\n",
              "      <td>84754.200</td>\n",
              "      <td>14031.181</td>\n",
              "      <td>8658.600</td>\n",
              "      <td>17172.500</td>\n",
              "      <td>12095.100</td>\n",
              "      <td>66804.400</td>\n",
              "      <td>184461.700</td>\n",
              "    </tr>\n",
              "    <tr>\n",
              "      <th>2</th>\n",
              "      <td>30/09/2016</td>\n",
              "      <td>15653.480</td>\n",
              "      <td>221.347</td>\n",
              "      <td>647.239</td>\n",
              "      <td>749.478</td>\n",
              "      <td>1468.428</td>\n",
              "      <td>10128.726</td>\n",
              "      <td>23323.685</td>\n",
              "    </tr>\n",
              "    <tr>\n",
              "      <th>3</th>\n",
              "      <td>30/09/2018</td>\n",
              "      <td>62001.330</td>\n",
              "      <td>7551.762</td>\n",
              "      <td>1808.830</td>\n",
              "      <td>2702.850</td>\n",
              "      <td>11873.255</td>\n",
              "      <td>27144.930</td>\n",
              "      <td>130202.792</td>\n",
              "    </tr>\n",
              "    <tr>\n",
              "      <th>4</th>\n",
              "      <td>30/09/2014</td>\n",
              "      <td>1242.830</td>\n",
              "      <td>497.142</td>\n",
              "      <td>232.027</td>\n",
              "      <td>1552.908</td>\n",
              "      <td>149.971</td>\n",
              "      <td>1463.052</td>\n",
              "      <td>11472.123</td>\n",
              "    </tr>\n",
              "  </tbody>\n",
              "</table>\n",
              "</div>\n",
              "    <div class=\"colab-df-buttons\">\n",
              "\n",
              "  <div class=\"colab-df-container\">\n",
              "    <button class=\"colab-df-convert\" onclick=\"convertToInteractive('df-3885c2ae-74ce-4e20-b7c5-d892c090836e')\"\n",
              "            title=\"Convert this dataframe to an interactive table.\"\n",
              "            style=\"display:none;\">\n",
              "\n",
              "  <svg xmlns=\"http://www.w3.org/2000/svg\" height=\"24px\" viewBox=\"0 -960 960 960\">\n",
              "    <path d=\"M120-120v-720h720v720H120Zm60-500h600v-160H180v160Zm220 220h160v-160H400v160Zm0 220h160v-160H400v160ZM180-400h160v-160H180v160Zm440 0h160v-160H620v160ZM180-180h160v-160H180v160Zm440 0h160v-160H620v160Z\"/>\n",
              "  </svg>\n",
              "    </button>\n",
              "\n",
              "  <style>\n",
              "    .colab-df-container {\n",
              "      display:flex;\n",
              "      gap: 12px;\n",
              "    }\n",
              "\n",
              "    .colab-df-convert {\n",
              "      background-color: #E8F0FE;\n",
              "      border: none;\n",
              "      border-radius: 50%;\n",
              "      cursor: pointer;\n",
              "      display: none;\n",
              "      fill: #1967D2;\n",
              "      height: 32px;\n",
              "      padding: 0 0 0 0;\n",
              "      width: 32px;\n",
              "    }\n",
              "\n",
              "    .colab-df-convert:hover {\n",
              "      background-color: #E2EBFA;\n",
              "      box-shadow: 0px 1px 2px rgba(60, 64, 67, 0.3), 0px 1px 3px 1px rgba(60, 64, 67, 0.15);\n",
              "      fill: #174EA6;\n",
              "    }\n",
              "\n",
              "    .colab-df-buttons div {\n",
              "      margin-bottom: 4px;\n",
              "    }\n",
              "\n",
              "    [theme=dark] .colab-df-convert {\n",
              "      background-color: #3B4455;\n",
              "      fill: #D2E3FC;\n",
              "    }\n",
              "\n",
              "    [theme=dark] .colab-df-convert:hover {\n",
              "      background-color: #434B5C;\n",
              "      box-shadow: 0px 1px 3px 1px rgba(0, 0, 0, 0.15);\n",
              "      filter: drop-shadow(0px 1px 2px rgba(0, 0, 0, 0.3));\n",
              "      fill: #FFFFFF;\n",
              "    }\n",
              "  </style>\n",
              "\n",
              "    <script>\n",
              "      const buttonEl =\n",
              "        document.querySelector('#df-3885c2ae-74ce-4e20-b7c5-d892c090836e button.colab-df-convert');\n",
              "      buttonEl.style.display =\n",
              "        google.colab.kernel.accessAllowed ? 'block' : 'none';\n",
              "\n",
              "      async function convertToInteractive(key) {\n",
              "        const element = document.querySelector('#df-3885c2ae-74ce-4e20-b7c5-d892c090836e');\n",
              "        const dataTable =\n",
              "          await google.colab.kernel.invokeFunction('convertToInteractive',\n",
              "                                                    [key], {});\n",
              "        if (!dataTable) return;\n",
              "\n",
              "        const docLinkHtml = 'Like what you see? Visit the ' +\n",
              "          '<a target=\"_blank\" href=https://colab.research.google.com/notebooks/data_table.ipynb>data table notebook</a>'\n",
              "          + ' to learn more about interactive tables.';\n",
              "        element.innerHTML = '';\n",
              "        dataTable['output_type'] = 'display_data';\n",
              "        await google.colab.output.renderOutput(dataTable, element);\n",
              "        const docLink = document.createElement('div');\n",
              "        docLink.innerHTML = docLinkHtml;\n",
              "        element.appendChild(docLink);\n",
              "      }\n",
              "    </script>\n",
              "  </div>\n",
              "\n",
              "\n",
              "<div id=\"df-9fb81546-b707-4d07-8509-4e3f120eb08e\">\n",
              "  <button class=\"colab-df-quickchart\" onclick=\"quickchart('df-9fb81546-b707-4d07-8509-4e3f120eb08e')\"\n",
              "            title=\"Suggest charts\"\n",
              "            style=\"display:none;\">\n",
              "\n",
              "<svg xmlns=\"http://www.w3.org/2000/svg\" height=\"24px\"viewBox=\"0 0 24 24\"\n",
              "     width=\"24px\">\n",
              "    <g>\n",
              "        <path d=\"M19 3H5c-1.1 0-2 .9-2 2v14c0 1.1.9 2 2 2h14c1.1 0 2-.9 2-2V5c0-1.1-.9-2-2-2zM9 17H7v-7h2v7zm4 0h-2V7h2v10zm4 0h-2v-4h2v4z\"/>\n",
              "    </g>\n",
              "</svg>\n",
              "  </button>\n",
              "\n",
              "<style>\n",
              "  .colab-df-quickchart {\n",
              "      --bg-color: #E8F0FE;\n",
              "      --fill-color: #1967D2;\n",
              "      --hover-bg-color: #E2EBFA;\n",
              "      --hover-fill-color: #174EA6;\n",
              "      --disabled-fill-color: #AAA;\n",
              "      --disabled-bg-color: #DDD;\n",
              "  }\n",
              "\n",
              "  [theme=dark] .colab-df-quickchart {\n",
              "      --bg-color: #3B4455;\n",
              "      --fill-color: #D2E3FC;\n",
              "      --hover-bg-color: #434B5C;\n",
              "      --hover-fill-color: #FFFFFF;\n",
              "      --disabled-bg-color: #3B4455;\n",
              "      --disabled-fill-color: #666;\n",
              "  }\n",
              "\n",
              "  .colab-df-quickchart {\n",
              "    background-color: var(--bg-color);\n",
              "    border: none;\n",
              "    border-radius: 50%;\n",
              "    cursor: pointer;\n",
              "    display: none;\n",
              "    fill: var(--fill-color);\n",
              "    height: 32px;\n",
              "    padding: 0;\n",
              "    width: 32px;\n",
              "  }\n",
              "\n",
              "  .colab-df-quickchart:hover {\n",
              "    background-color: var(--hover-bg-color);\n",
              "    box-shadow: 0 1px 2px rgba(60, 64, 67, 0.3), 0 1px 3px 1px rgba(60, 64, 67, 0.15);\n",
              "    fill: var(--button-hover-fill-color);\n",
              "  }\n",
              "\n",
              "  .colab-df-quickchart-complete:disabled,\n",
              "  .colab-df-quickchart-complete:disabled:hover {\n",
              "    background-color: var(--disabled-bg-color);\n",
              "    fill: var(--disabled-fill-color);\n",
              "    box-shadow: none;\n",
              "  }\n",
              "\n",
              "  .colab-df-spinner {\n",
              "    border: 2px solid var(--fill-color);\n",
              "    border-color: transparent;\n",
              "    border-bottom-color: var(--fill-color);\n",
              "    animation:\n",
              "      spin 1s steps(1) infinite;\n",
              "  }\n",
              "\n",
              "  @keyframes spin {\n",
              "    0% {\n",
              "      border-color: transparent;\n",
              "      border-bottom-color: var(--fill-color);\n",
              "      border-left-color: var(--fill-color);\n",
              "    }\n",
              "    20% {\n",
              "      border-color: transparent;\n",
              "      border-left-color: var(--fill-color);\n",
              "      border-top-color: var(--fill-color);\n",
              "    }\n",
              "    30% {\n",
              "      border-color: transparent;\n",
              "      border-left-color: var(--fill-color);\n",
              "      border-top-color: var(--fill-color);\n",
              "      border-right-color: var(--fill-color);\n",
              "    }\n",
              "    40% {\n",
              "      border-color: transparent;\n",
              "      border-right-color: var(--fill-color);\n",
              "      border-top-color: var(--fill-color);\n",
              "    }\n",
              "    60% {\n",
              "      border-color: transparent;\n",
              "      border-right-color: var(--fill-color);\n",
              "    }\n",
              "    80% {\n",
              "      border-color: transparent;\n",
              "      border-right-color: var(--fill-color);\n",
              "      border-bottom-color: var(--fill-color);\n",
              "    }\n",
              "    90% {\n",
              "      border-color: transparent;\n",
              "      border-bottom-color: var(--fill-color);\n",
              "    }\n",
              "  }\n",
              "</style>\n",
              "\n",
              "  <script>\n",
              "    async function quickchart(key) {\n",
              "      const quickchartButtonEl =\n",
              "        document.querySelector('#' + key + ' button');\n",
              "      quickchartButtonEl.disabled = true;  // To prevent multiple clicks.\n",
              "      quickchartButtonEl.classList.add('colab-df-spinner');\n",
              "      try {\n",
              "        const charts = await google.colab.kernel.invokeFunction(\n",
              "            'suggestCharts', [key], {});\n",
              "      } catch (error) {\n",
              "        console.error('Error during call to suggestCharts:', error);\n",
              "      }\n",
              "      quickchartButtonEl.classList.remove('colab-df-spinner');\n",
              "      quickchartButtonEl.classList.add('colab-df-quickchart-complete');\n",
              "    }\n",
              "    (() => {\n",
              "      let quickchartButtonEl =\n",
              "        document.querySelector('#df-9fb81546-b707-4d07-8509-4e3f120eb08e button');\n",
              "      quickchartButtonEl.style.display =\n",
              "        google.colab.kernel.accessAllowed ? 'block' : 'none';\n",
              "    })();\n",
              "  </script>\n",
              "</div>\n",
              "\n",
              "    </div>\n",
              "  </div>\n"
            ],
            "application/vnd.google.colaboratory.intrinsic+json": {
              "type": "dataframe",
              "variable_name": "df",
              "summary": "{\n  \"name\": \"df\",\n  \"rows\": 1061,\n  \"fields\": [\n    {\n      \"column\": \"valuationdate\",\n      \"properties\": {\n        \"dtype\": \"category\",\n        \"num_unique_values\": 49,\n        \"samples\": [\n          \"31/03/2020\",\n          \"30/06/2017\",\n          \"31/12/2018\"\n        ],\n        \"semantic_type\": \"\",\n        \"description\": \"\"\n      }\n    },\n    {\n      \"column\": \"revenues\",\n      \"properties\": {\n        \"dtype\": \"number\",\n        \"std\": 221382.7533677901,\n        \"min\": 85.6,\n        \"max\": 2586711.9,\n        \"num_unique_values\": 1060,\n        \"samples\": [\n          140085.0,\n          181429.1,\n          34462.787\n        ],\n        \"semantic_type\": \"\",\n        \"description\": \"\"\n      }\n    },\n    {\n      \"column\": \"ebit\",\n      \"properties\": {\n        \"dtype\": \"number\",\n        \"std\": 31871.07655869133,\n        \"min\": -29982.97988,\n        \"max\": 289541.3,\n        \"num_unique_values\": 1061,\n        \"samples\": [\n          5786.05018,\n          19143.356,\n          26110.491\n        ],\n        \"semantic_type\": \"\",\n        \"description\": \"\"\n      }\n    },\n    {\n      \"column\": \"depreciation\",\n      \"properties\": {\n        \"dtype\": \"number\",\n        \"std\": 13898.135849449449,\n        \"min\": -5.69,\n        \"max\": 128993.5,\n        \"num_unique_values\": 1059,\n        \"samples\": [\n          1266.333,\n          3073.49,\n          1106.583\n        ],\n        \"semantic_type\": \"\",\n        \"description\": \"\"\n      }\n    },\n    {\n      \"column\": \"capex\",\n      \"properties\": {\n        \"dtype\": \"number\",\n        \"std\": 20250.735197325204,\n        \"min\": -694.661,\n        \"max\": 205525.7,\n        \"num_unique_values\": 1059,\n        \"samples\": [\n          5375.4,\n          4574.8,\n          2380.899\n        ],\n        \"semantic_type\": \"\",\n        \"description\": \"\"\n      }\n    },\n    {\n      \"column\": \"ncwc\",\n      \"properties\": {\n        \"dtype\": \"number\",\n        \"std\": 54636.42153952822,\n        \"min\": -118819.899,\n        \"max\": 623588.7,\n        \"num_unique_values\": 1061,\n        \"samples\": [\n          6842.249303,\n          11882.335,\n          34290.448\n        ],\n        \"semantic_type\": \"\",\n        \"description\": \"\"\n      }\n    },\n    {\n      \"column\": \"bv\",\n      \"properties\": {\n        \"dtype\": \"number\",\n        \"std\": 104349.9846115421,\n        \"min\": -15039.647,\n        \"max\": 1009025.8,\n        \"num_unique_values\": 1061,\n        \"samples\": [\n          45349.4,\n          39194.21,\n          71135.787\n        ],\n        \"semantic_type\": \"\",\n        \"description\": \"\"\n      }\n    },\n    {\n      \"column\": \"y\",\n      \"properties\": {\n        \"dtype\": \"number\",\n        \"std\": 405670.0618926025,\n        \"min\": 369.2,\n        \"max\": 4175891.774,\n        \"num_unique_values\": 1061,\n        \"samples\": [\n          122183.9,\n          157365.1432,\n          508840.3663\n        ],\n        \"semantic_type\": \"\",\n        \"description\": \"\"\n      }\n    }\n  ]\n}"
            }
          },
          "metadata": {},
          "execution_count": 6
        }
      ]
    },
    {
      "cell_type": "code",
      "source": [
        "df.info()"
      ],
      "metadata": {
        "id": "IJWi62zaU8wP",
        "outputId": "09721946-60eb-41ce-ed6d-5206cc0984af",
        "colab": {
          "base_uri": "https://localhost:8080/"
        }
      },
      "id": "IJWi62zaU8wP",
      "execution_count": 7,
      "outputs": [
        {
          "output_type": "stream",
          "name": "stdout",
          "text": [
            "<class 'pandas.core.frame.DataFrame'>\n",
            "RangeIndex: 1061 entries, 0 to 1060\n",
            "Data columns (total 8 columns):\n",
            " #   Column         Non-Null Count  Dtype  \n",
            "---  ------         --------------  -----  \n",
            " 0   valuationdate  1061 non-null   object \n",
            " 1   revenues       1061 non-null   float64\n",
            " 2   ebit           1061 non-null   float64\n",
            " 3   depreciation   1061 non-null   float64\n",
            " 4   capex          1061 non-null   float64\n",
            " 5   ncwc           1061 non-null   float64\n",
            " 6   bv             1061 non-null   float64\n",
            " 7   y              1061 non-null   float64\n",
            "dtypes: float64(7), object(1)\n",
            "memory usage: 66.4+ KB\n"
          ]
        }
      ]
    },
    {
      "cell_type": "code",
      "source": [
        "df.describe()"
      ],
      "metadata": {
        "id": "SpPxBsDtU_u3",
        "outputId": "9f19cb3f-1195-4a43-da21-f066c11cb7be",
        "colab": {
          "base_uri": "https://localhost:8080/",
          "height": 300
        }
      },
      "id": "SpPxBsDtU_u3",
      "execution_count": 8,
      "outputs": [
        {
          "output_type": "execute_result",
          "data": {
            "text/plain": [
              "         revenues       ebit  depreciation      capex        ncwc          bv  \\\n",
              "count    1061.000   1061.000      1061.000   1061.000    1061.000    1061.000   \n",
              "mean   163272.694  24076.407      8002.050  10961.602   22324.131   80571.617   \n",
              "std    221382.753  31871.077     13898.136  20250.735   54636.422  104349.985   \n",
              "min        85.600 -29982.980        -5.690   -694.661 -118819.899  -15039.647   \n",
              "25%     42659.576   4522.900       999.340   1666.600    3115.247   16895.000   \n",
              "50%    108201.100  12224.612      3446.250   4949.447   10736.200   41722.900   \n",
              "75%    186248.542  32228.942      8361.220  11201.479   23454.185  114756.258   \n",
              "max   2586711.900 289541.300    128993.500 205525.700  623588.700 1009025.800   \n",
              "\n",
              "                y  \n",
              "count    1061.000  \n",
              "mean   329223.752  \n",
              "std    405670.062  \n",
              "min       369.200  \n",
              "25%     69810.100  \n",
              "50%    185041.566  \n",
              "75%    425827.300  \n",
              "max   4175891.774  "
            ],
            "text/html": [
              "\n",
              "  <div id=\"df-cad691f8-f1a1-4bba-ab9c-ab2b90882b87\" class=\"colab-df-container\">\n",
              "    <div>\n",
              "<style scoped>\n",
              "    .dataframe tbody tr th:only-of-type {\n",
              "        vertical-align: middle;\n",
              "    }\n",
              "\n",
              "    .dataframe tbody tr th {\n",
              "        vertical-align: top;\n",
              "    }\n",
              "\n",
              "    .dataframe thead th {\n",
              "        text-align: right;\n",
              "    }\n",
              "</style>\n",
              "<table border=\"1\" class=\"dataframe\">\n",
              "  <thead>\n",
              "    <tr style=\"text-align: right;\">\n",
              "      <th></th>\n",
              "      <th>revenues</th>\n",
              "      <th>ebit</th>\n",
              "      <th>depreciation</th>\n",
              "      <th>capex</th>\n",
              "      <th>ncwc</th>\n",
              "      <th>bv</th>\n",
              "      <th>y</th>\n",
              "    </tr>\n",
              "  </thead>\n",
              "  <tbody>\n",
              "    <tr>\n",
              "      <th>count</th>\n",
              "      <td>1061.000</td>\n",
              "      <td>1061.000</td>\n",
              "      <td>1061.000</td>\n",
              "      <td>1061.000</td>\n",
              "      <td>1061.000</td>\n",
              "      <td>1061.000</td>\n",
              "      <td>1061.000</td>\n",
              "    </tr>\n",
              "    <tr>\n",
              "      <th>mean</th>\n",
              "      <td>163272.694</td>\n",
              "      <td>24076.407</td>\n",
              "      <td>8002.050</td>\n",
              "      <td>10961.602</td>\n",
              "      <td>22324.131</td>\n",
              "      <td>80571.617</td>\n",
              "      <td>329223.752</td>\n",
              "    </tr>\n",
              "    <tr>\n",
              "      <th>std</th>\n",
              "      <td>221382.753</td>\n",
              "      <td>31871.077</td>\n",
              "      <td>13898.136</td>\n",
              "      <td>20250.735</td>\n",
              "      <td>54636.422</td>\n",
              "      <td>104349.985</td>\n",
              "      <td>405670.062</td>\n",
              "    </tr>\n",
              "    <tr>\n",
              "      <th>min</th>\n",
              "      <td>85.600</td>\n",
              "      <td>-29982.980</td>\n",
              "      <td>-5.690</td>\n",
              "      <td>-694.661</td>\n",
              "      <td>-118819.899</td>\n",
              "      <td>-15039.647</td>\n",
              "      <td>369.200</td>\n",
              "    </tr>\n",
              "    <tr>\n",
              "      <th>25%</th>\n",
              "      <td>42659.576</td>\n",
              "      <td>4522.900</td>\n",
              "      <td>999.340</td>\n",
              "      <td>1666.600</td>\n",
              "      <td>3115.247</td>\n",
              "      <td>16895.000</td>\n",
              "      <td>69810.100</td>\n",
              "    </tr>\n",
              "    <tr>\n",
              "      <th>50%</th>\n",
              "      <td>108201.100</td>\n",
              "      <td>12224.612</td>\n",
              "      <td>3446.250</td>\n",
              "      <td>4949.447</td>\n",
              "      <td>10736.200</td>\n",
              "      <td>41722.900</td>\n",
              "      <td>185041.566</td>\n",
              "    </tr>\n",
              "    <tr>\n",
              "      <th>75%</th>\n",
              "      <td>186248.542</td>\n",
              "      <td>32228.942</td>\n",
              "      <td>8361.220</td>\n",
              "      <td>11201.479</td>\n",
              "      <td>23454.185</td>\n",
              "      <td>114756.258</td>\n",
              "      <td>425827.300</td>\n",
              "    </tr>\n",
              "    <tr>\n",
              "      <th>max</th>\n",
              "      <td>2586711.900</td>\n",
              "      <td>289541.300</td>\n",
              "      <td>128993.500</td>\n",
              "      <td>205525.700</td>\n",
              "      <td>623588.700</td>\n",
              "      <td>1009025.800</td>\n",
              "      <td>4175891.774</td>\n",
              "    </tr>\n",
              "  </tbody>\n",
              "</table>\n",
              "</div>\n",
              "    <div class=\"colab-df-buttons\">\n",
              "\n",
              "  <div class=\"colab-df-container\">\n",
              "    <button class=\"colab-df-convert\" onclick=\"convertToInteractive('df-cad691f8-f1a1-4bba-ab9c-ab2b90882b87')\"\n",
              "            title=\"Convert this dataframe to an interactive table.\"\n",
              "            style=\"display:none;\">\n",
              "\n",
              "  <svg xmlns=\"http://www.w3.org/2000/svg\" height=\"24px\" viewBox=\"0 -960 960 960\">\n",
              "    <path d=\"M120-120v-720h720v720H120Zm60-500h600v-160H180v160Zm220 220h160v-160H400v160Zm0 220h160v-160H400v160ZM180-400h160v-160H180v160Zm440 0h160v-160H620v160ZM180-180h160v-160H180v160Zm440 0h160v-160H620v160Z\"/>\n",
              "  </svg>\n",
              "    </button>\n",
              "\n",
              "  <style>\n",
              "    .colab-df-container {\n",
              "      display:flex;\n",
              "      gap: 12px;\n",
              "    }\n",
              "\n",
              "    .colab-df-convert {\n",
              "      background-color: #E8F0FE;\n",
              "      border: none;\n",
              "      border-radius: 50%;\n",
              "      cursor: pointer;\n",
              "      display: none;\n",
              "      fill: #1967D2;\n",
              "      height: 32px;\n",
              "      padding: 0 0 0 0;\n",
              "      width: 32px;\n",
              "    }\n",
              "\n",
              "    .colab-df-convert:hover {\n",
              "      background-color: #E2EBFA;\n",
              "      box-shadow: 0px 1px 2px rgba(60, 64, 67, 0.3), 0px 1px 3px 1px rgba(60, 64, 67, 0.15);\n",
              "      fill: #174EA6;\n",
              "    }\n",
              "\n",
              "    .colab-df-buttons div {\n",
              "      margin-bottom: 4px;\n",
              "    }\n",
              "\n",
              "    [theme=dark] .colab-df-convert {\n",
              "      background-color: #3B4455;\n",
              "      fill: #D2E3FC;\n",
              "    }\n",
              "\n",
              "    [theme=dark] .colab-df-convert:hover {\n",
              "      background-color: #434B5C;\n",
              "      box-shadow: 0px 1px 3px 1px rgba(0, 0, 0, 0.15);\n",
              "      filter: drop-shadow(0px 1px 2px rgba(0, 0, 0, 0.3));\n",
              "      fill: #FFFFFF;\n",
              "    }\n",
              "  </style>\n",
              "\n",
              "    <script>\n",
              "      const buttonEl =\n",
              "        document.querySelector('#df-cad691f8-f1a1-4bba-ab9c-ab2b90882b87 button.colab-df-convert');\n",
              "      buttonEl.style.display =\n",
              "        google.colab.kernel.accessAllowed ? 'block' : 'none';\n",
              "\n",
              "      async function convertToInteractive(key) {\n",
              "        const element = document.querySelector('#df-cad691f8-f1a1-4bba-ab9c-ab2b90882b87');\n",
              "        const dataTable =\n",
              "          await google.colab.kernel.invokeFunction('convertToInteractive',\n",
              "                                                    [key], {});\n",
              "        if (!dataTable) return;\n",
              "\n",
              "        const docLinkHtml = 'Like what you see? Visit the ' +\n",
              "          '<a target=\"_blank\" href=https://colab.research.google.com/notebooks/data_table.ipynb>data table notebook</a>'\n",
              "          + ' to learn more about interactive tables.';\n",
              "        element.innerHTML = '';\n",
              "        dataTable['output_type'] = 'display_data';\n",
              "        await google.colab.output.renderOutput(dataTable, element);\n",
              "        const docLink = document.createElement('div');\n",
              "        docLink.innerHTML = docLinkHtml;\n",
              "        element.appendChild(docLink);\n",
              "      }\n",
              "    </script>\n",
              "  </div>\n",
              "\n",
              "\n",
              "<div id=\"df-0a092d21-bf04-4df4-a0bc-8f8809d34909\">\n",
              "  <button class=\"colab-df-quickchart\" onclick=\"quickchart('df-0a092d21-bf04-4df4-a0bc-8f8809d34909')\"\n",
              "            title=\"Suggest charts\"\n",
              "            style=\"display:none;\">\n",
              "\n",
              "<svg xmlns=\"http://www.w3.org/2000/svg\" height=\"24px\"viewBox=\"0 0 24 24\"\n",
              "     width=\"24px\">\n",
              "    <g>\n",
              "        <path d=\"M19 3H5c-1.1 0-2 .9-2 2v14c0 1.1.9 2 2 2h14c1.1 0 2-.9 2-2V5c0-1.1-.9-2-2-2zM9 17H7v-7h2v7zm4 0h-2V7h2v10zm4 0h-2v-4h2v4z\"/>\n",
              "    </g>\n",
              "</svg>\n",
              "  </button>\n",
              "\n",
              "<style>\n",
              "  .colab-df-quickchart {\n",
              "      --bg-color: #E8F0FE;\n",
              "      --fill-color: #1967D2;\n",
              "      --hover-bg-color: #E2EBFA;\n",
              "      --hover-fill-color: #174EA6;\n",
              "      --disabled-fill-color: #AAA;\n",
              "      --disabled-bg-color: #DDD;\n",
              "  }\n",
              "\n",
              "  [theme=dark] .colab-df-quickchart {\n",
              "      --bg-color: #3B4455;\n",
              "      --fill-color: #D2E3FC;\n",
              "      --hover-bg-color: #434B5C;\n",
              "      --hover-fill-color: #FFFFFF;\n",
              "      --disabled-bg-color: #3B4455;\n",
              "      --disabled-fill-color: #666;\n",
              "  }\n",
              "\n",
              "  .colab-df-quickchart {\n",
              "    background-color: var(--bg-color);\n",
              "    border: none;\n",
              "    border-radius: 50%;\n",
              "    cursor: pointer;\n",
              "    display: none;\n",
              "    fill: var(--fill-color);\n",
              "    height: 32px;\n",
              "    padding: 0;\n",
              "    width: 32px;\n",
              "  }\n",
              "\n",
              "  .colab-df-quickchart:hover {\n",
              "    background-color: var(--hover-bg-color);\n",
              "    box-shadow: 0 1px 2px rgba(60, 64, 67, 0.3), 0 1px 3px 1px rgba(60, 64, 67, 0.15);\n",
              "    fill: var(--button-hover-fill-color);\n",
              "  }\n",
              "\n",
              "  .colab-df-quickchart-complete:disabled,\n",
              "  .colab-df-quickchart-complete:disabled:hover {\n",
              "    background-color: var(--disabled-bg-color);\n",
              "    fill: var(--disabled-fill-color);\n",
              "    box-shadow: none;\n",
              "  }\n",
              "\n",
              "  .colab-df-spinner {\n",
              "    border: 2px solid var(--fill-color);\n",
              "    border-color: transparent;\n",
              "    border-bottom-color: var(--fill-color);\n",
              "    animation:\n",
              "      spin 1s steps(1) infinite;\n",
              "  }\n",
              "\n",
              "  @keyframes spin {\n",
              "    0% {\n",
              "      border-color: transparent;\n",
              "      border-bottom-color: var(--fill-color);\n",
              "      border-left-color: var(--fill-color);\n",
              "    }\n",
              "    20% {\n",
              "      border-color: transparent;\n",
              "      border-left-color: var(--fill-color);\n",
              "      border-top-color: var(--fill-color);\n",
              "    }\n",
              "    30% {\n",
              "      border-color: transparent;\n",
              "      border-left-color: var(--fill-color);\n",
              "      border-top-color: var(--fill-color);\n",
              "      border-right-color: var(--fill-color);\n",
              "    }\n",
              "    40% {\n",
              "      border-color: transparent;\n",
              "      border-right-color: var(--fill-color);\n",
              "      border-top-color: var(--fill-color);\n",
              "    }\n",
              "    60% {\n",
              "      border-color: transparent;\n",
              "      border-right-color: var(--fill-color);\n",
              "    }\n",
              "    80% {\n",
              "      border-color: transparent;\n",
              "      border-right-color: var(--fill-color);\n",
              "      border-bottom-color: var(--fill-color);\n",
              "    }\n",
              "    90% {\n",
              "      border-color: transparent;\n",
              "      border-bottom-color: var(--fill-color);\n",
              "    }\n",
              "  }\n",
              "</style>\n",
              "\n",
              "  <script>\n",
              "    async function quickchart(key) {\n",
              "      const quickchartButtonEl =\n",
              "        document.querySelector('#' + key + ' button');\n",
              "      quickchartButtonEl.disabled = true;  // To prevent multiple clicks.\n",
              "      quickchartButtonEl.classList.add('colab-df-spinner');\n",
              "      try {\n",
              "        const charts = await google.colab.kernel.invokeFunction(\n",
              "            'suggestCharts', [key], {});\n",
              "      } catch (error) {\n",
              "        console.error('Error during call to suggestCharts:', error);\n",
              "      }\n",
              "      quickchartButtonEl.classList.remove('colab-df-spinner');\n",
              "      quickchartButtonEl.classList.add('colab-df-quickchart-complete');\n",
              "    }\n",
              "    (() => {\n",
              "      let quickchartButtonEl =\n",
              "        document.querySelector('#df-0a092d21-bf04-4df4-a0bc-8f8809d34909 button');\n",
              "      quickchartButtonEl.style.display =\n",
              "        google.colab.kernel.accessAllowed ? 'block' : 'none';\n",
              "    })();\n",
              "  </script>\n",
              "</div>\n",
              "\n",
              "    </div>\n",
              "  </div>\n"
            ],
            "application/vnd.google.colaboratory.intrinsic+json": {
              "type": "dataframe",
              "summary": "{\n  \"name\": \"df\",\n  \"rows\": 8,\n  \"fields\": [\n    {\n      \"column\": \"revenues\",\n      \"properties\": {\n        \"dtype\": \"number\",\n        \"std\": 882023.892826327,\n        \"min\": 85.6,\n        \"max\": 2586711.9,\n        \"num_unique_values\": 8,\n        \"samples\": [\n          163272.69379951016,\n          108201.1,\n          1061.0\n        ],\n        \"semantic_type\": \"\",\n        \"description\": \"\"\n      }\n    },\n    {\n      \"column\": \"ebit\",\n      \"properties\": {\n        \"dtype\": \"number\",\n        \"std\": 100595.06976728782,\n        \"min\": -29982.97988,\n        \"max\": 289541.3,\n        \"num_unique_values\": 8,\n        \"samples\": [\n          24076.40680961668,\n          12224.61195,\n          1061.0\n        ],\n        \"semantic_type\": \"\",\n        \"description\": \"\"\n      }\n    },\n    {\n      \"column\": \"depreciation\",\n      \"properties\": {\n        \"dtype\": \"number\",\n        \"std\": 44057.37435424973,\n        \"min\": -5.69,\n        \"max\": 128993.5,\n        \"num_unique_values\": 8,\n        \"samples\": [\n          8002.050366635249,\n          3446.25,\n          1061.0\n        ],\n        \"semantic_type\": \"\",\n        \"description\": \"\"\n      }\n    },\n    {\n      \"column\": \"capex\",\n      \"properties\": {\n        \"dtype\": \"number\",\n        \"std\": 70510.65907942971,\n        \"min\": -694.661,\n        \"max\": 205525.7,\n        \"num_unique_values\": 8,\n        \"samples\": [\n          10961.602205466543,\n          4949.447,\n          1061.0\n        ],\n        \"semantic_type\": \"\",\n        \"description\": \"\"\n      }\n    },\n    {\n      \"column\": \"ncwc\",\n      \"properties\": {\n        \"dtype\": \"number\",\n        \"std\": 226487.41904970765,\n        \"min\": -118819.899,\n        \"max\": 623588.7,\n        \"num_unique_values\": 8,\n        \"samples\": [\n          22324.130946279547,\n          10736.2,\n          1061.0\n        ],\n        \"semantic_type\": \"\",\n        \"description\": \"\"\n      }\n    },\n    {\n      \"column\": \"bv\",\n      \"properties\": {\n        \"dtype\": \"number\",\n        \"std\": 342677.31527034246,\n        \"min\": -15039.647,\n        \"max\": 1009025.8,\n        \"num_unique_values\": 8,\n        \"samples\": [\n          80571.61692554194,\n          41722.9,\n          1061.0\n        ],\n        \"semantic_type\": \"\",\n        \"description\": \"\"\n      }\n    },\n    {\n      \"column\": \"y\",\n      \"properties\": {\n        \"dtype\": \"number\",\n        \"std\": 1415294.699374339,\n        \"min\": 369.2,\n        \"max\": 4175891.774,\n        \"num_unique_values\": 8,\n        \"samples\": [\n          329223.752084065,\n          185041.5662,\n          1061.0\n        ],\n        \"semantic_type\": \"\",\n        \"description\": \"\"\n      }\n    }\n  ]\n}"
            }
          },
          "metadata": {},
          "execution_count": 8
        }
      ]
    },
    {
      "cell_type": "code",
      "source": [
        "df.isnull().sum()"
      ],
      "metadata": {
        "id": "SEt3ZUFeVBaf",
        "outputId": "3d84faf3-b73b-450a-95c7-ec20d3b06812",
        "colab": {
          "base_uri": "https://localhost:8080/",
          "height": 335
        }
      },
      "id": "SEt3ZUFeVBaf",
      "execution_count": 9,
      "outputs": [
        {
          "output_type": "execute_result",
          "data": {
            "text/plain": [
              "valuationdate    0\n",
              "revenues         0\n",
              "ebit             0\n",
              "depreciation     0\n",
              "capex            0\n",
              "ncwc             0\n",
              "bv               0\n",
              "y                0\n",
              "dtype: int64"
            ],
            "text/html": [
              "<div>\n",
              "<style scoped>\n",
              "    .dataframe tbody tr th:only-of-type {\n",
              "        vertical-align: middle;\n",
              "    }\n",
              "\n",
              "    .dataframe tbody tr th {\n",
              "        vertical-align: top;\n",
              "    }\n",
              "\n",
              "    .dataframe thead th {\n",
              "        text-align: right;\n",
              "    }\n",
              "</style>\n",
              "<table border=\"1\" class=\"dataframe\">\n",
              "  <thead>\n",
              "    <tr style=\"text-align: right;\">\n",
              "      <th></th>\n",
              "      <th>0</th>\n",
              "    </tr>\n",
              "  </thead>\n",
              "  <tbody>\n",
              "    <tr>\n",
              "      <th>valuationdate</th>\n",
              "      <td>0</td>\n",
              "    </tr>\n",
              "    <tr>\n",
              "      <th>revenues</th>\n",
              "      <td>0</td>\n",
              "    </tr>\n",
              "    <tr>\n",
              "      <th>ebit</th>\n",
              "      <td>0</td>\n",
              "    </tr>\n",
              "    <tr>\n",
              "      <th>depreciation</th>\n",
              "      <td>0</td>\n",
              "    </tr>\n",
              "    <tr>\n",
              "      <th>capex</th>\n",
              "      <td>0</td>\n",
              "    </tr>\n",
              "    <tr>\n",
              "      <th>ncwc</th>\n",
              "      <td>0</td>\n",
              "    </tr>\n",
              "    <tr>\n",
              "      <th>bv</th>\n",
              "      <td>0</td>\n",
              "    </tr>\n",
              "    <tr>\n",
              "      <th>y</th>\n",
              "      <td>0</td>\n",
              "    </tr>\n",
              "  </tbody>\n",
              "</table>\n",
              "</div><br><label><b>dtype:</b> int64</label>"
            ]
          },
          "metadata": {},
          "execution_count": 9
        }
      ]
    },
    {
      "cell_type": "code",
      "source": [
        "df.hist(bins=50, figsize=(20,15))\n",
        "plt.show()"
      ],
      "metadata": {
        "id": "58h7yHQ3VDbw",
        "outputId": "e6f713fc-4b50-4df8-a135-1ba532a59060",
        "colab": {
          "base_uri": "https://localhost:8080/",
          "height": 1000
        }
      },
      "id": "58h7yHQ3VDbw",
      "execution_count": 10,
      "outputs": [
        {
          "output_type": "display_data",
          "data": {
            "text/plain": [
              "<Figure size 2000x1500 with 9 Axes>"
            ],
            "image/png": "[encoded data removed]"
          },
          "metadata": {}
        }
      ]
    },
    {
      "cell_type": "code",
      "execution_count": 11,
      "id": "ee5666d8",
      "metadata": {
        "id": "ee5666d8",
        "outputId": "cef259a7-7eb8-4538-8076-6f69bf442ebf",
        "colab": {
          "base_uri": "https://localhost:8080/",
          "height": 528
        }
      },
      "outputs": [
        {
          "output_type": "display_data",
          "data": {
            "text/plain": [
              "<Figure size 1000x600 with 2 Axes>"
            ],
            "image/png": "[encoded data removed]"
          },
          "metadata": {}
        }
      ],
      "source": [
        "correlation_matrix = df.select_dtypes(include=['number']).corr()\n",
        "sns.heatmap(correlation_matrix, annot=True, cmap='coolwarm')\n",
        "plt.show()\n"
      ]
    },
    {
      "cell_type": "markdown",
      "id": "a80a3bc6",
      "metadata": {
        "id": "a80a3bc6"
      },
      "source": [
        "### Estadísticas Descriptivas y Distribuciones"
      ]
    },
    {
      "cell_type": "code",
      "source": [
        "import matplotlib.pyplot as plt"
      ],
      "metadata": {
        "id": "ilS9H7NnVOyg"
      },
      "id": "ilS9H7NnVOyg",
      "execution_count": 12,
      "outputs": []
    },
    {
      "cell_type": "code",
      "source": [
        "df.describe()"
      ],
      "metadata": {
        "id": "Xxxhe5lWVRdf",
        "outputId": "429a1ed2-fac7-4d22-e329-65ad6c9ff7fa",
        "colab": {
          "base_uri": "https://localhost:8080/",
          "height": 300
        }
      },
      "id": "Xxxhe5lWVRdf",
      "execution_count": 13,
      "outputs": [
        {
          "output_type": "execute_result",
          "data": {
            "text/plain": [
              "         revenues       ebit  depreciation      capex        ncwc          bv  \\\n",
              "count    1061.000   1061.000      1061.000   1061.000    1061.000    1061.000   \n",
              "mean   163272.694  24076.407      8002.050  10961.602   22324.131   80571.617   \n",
              "std    221382.753  31871.077     13898.136  20250.735   54636.422  104349.985   \n",
              "min        85.600 -29982.980        -5.690   -694.661 -118819.899  -15039.647   \n",
              "25%     42659.576   4522.900       999.340   1666.600    3115.247   16895.000   \n",
              "50%    108201.100  12224.612      3446.250   4949.447   10736.200   41722.900   \n",
              "75%    186248.542  32228.942      8361.220  11201.479   23454.185  114756.258   \n",
              "max   2586711.900 289541.300    128993.500 205525.700  623588.700 1009025.800   \n",
              "\n",
              "                y  \n",
              "count    1061.000  \n",
              "mean   329223.752  \n",
              "std    405670.062  \n",
              "min       369.200  \n",
              "25%     69810.100  \n",
              "50%    185041.566  \n",
              "75%    425827.300  \n",
              "max   4175891.774  "
            ],
            "text/html": [
              "\n",
              "  <div id=\"df-2fa29a45-bf49-49ba-a9e5-c048f1ddefe1\" class=\"colab-df-container\">\n",
              "    <div>\n",
              "<style scoped>\n",
              "    .dataframe tbody tr th:only-of-type {\n",
              "        vertical-align: middle;\n",
              "    }\n",
              "\n",
              "    .dataframe tbody tr th {\n",
              "        vertical-align: top;\n",
              "    }\n",
              "\n",
              "    .dataframe thead th {\n",
              "        text-align: right;\n",
              "    }\n",
              "</style>\n",
              "<table border=\"1\" class=\"dataframe\">\n",
              "  <thead>\n",
              "    <tr style=\"text-align: right;\">\n",
              "      <th></th>\n",
              "      <th>revenues</th>\n",
              "      <th>ebit</th>\n",
              "      <th>depreciation</th>\n",
              "      <th>capex</th>\n",
              "      <th>ncwc</th>\n",
              "      <th>bv</th>\n",
              "      <th>y</th>\n",
              "    </tr>\n",
              "  </thead>\n",
              "  <tbody>\n",
              "    <tr>\n",
              "      <th>count</th>\n",
              "      <td>1061.000</td>\n",
              "      <td>1061.000</td>\n",
              "      <td>1061.000</td>\n",
              "      <td>1061.000</td>\n",
              "      <td>1061.000</td>\n",
              "      <td>1061.000</td>\n",
              "      <td>1061.000</td>\n",
              "    </tr>\n",
              "    <tr>\n",
              "      <th>mean</th>\n",
              "      <td>163272.694</td>\n",
              "      <td>24076.407</td>\n",
              "      <td>8002.050</td>\n",
              "      <td>10961.602</td>\n",
              "      <td>22324.131</td>\n",
              "      <td>80571.617</td>\n",
              "      <td>329223.752</td>\n",
              "    </tr>\n",
              "    <tr>\n",
              "      <th>std</th>\n",
              "      <td>221382.753</td>\n",
              "      <td>31871.077</td>\n",
              "      <td>13898.136</td>\n",
              "      <td>20250.735</td>\n",
              "      <td>54636.422</td>\n",
              "      <td>104349.985</td>\n",
              "      <td>405670.062</td>\n",
              "    </tr>\n",
              "    <tr>\n",
              "      <th>min</th>\n",
              "      <td>85.600</td>\n",
              "      <td>-29982.980</td>\n",
              "      <td>-5.690</td>\n",
              "      <td>-694.661</td>\n",
              "      <td>-118819.899</td>\n",
              "      <td>-15039.647</td>\n",
              "      <td>369.200</td>\n",
              "    </tr>\n",
              "    <tr>\n",
              "      <th>25%</th>\n",
              "      <td>42659.576</td>\n",
              "      <td>4522.900</td>\n",
              "      <td>999.340</td>\n",
              "      <td>1666.600</td>\n",
              "      <td>3115.247</td>\n",
              "      <td>16895.000</td>\n",
              "      <td>69810.100</td>\n",
              "    </tr>\n",
              "    <tr>\n",
              "      <th>50%</th>\n",
              "      <td>108201.100</td>\n",
              "      <td>12224.612</td>\n",
              "      <td>3446.250</td>\n",
              "      <td>4949.447</td>\n",
              "      <td>10736.200</td>\n",
              "      <td>41722.900</td>\n",
              "      <td>185041.566</td>\n",
              "    </tr>\n",
              "    <tr>\n",
              "      <th>75%</th>\n",
              "      <td>186248.542</td>\n",
              "      <td>32228.942</td>\n",
              "      <td>8361.220</td>\n",
              "      <td>11201.479</td>\n",
              "      <td>23454.185</td>\n",
              "      <td>114756.258</td>\n",
              "      <td>425827.300</td>\n",
              "    </tr>\n",
              "    <tr>\n",
              "      <th>max</th>\n",
              "      <td>2586711.900</td>\n",
              "      <td>289541.300</td>\n",
              "      <td>128993.500</td>\n",
              "      <td>205525.700</td>\n",
              "      <td>623588.700</td>\n",
              "      <td>1009025.800</td>\n",
              "      <td>4175891.774</td>\n",
              "    </tr>\n",
              "  </tbody>\n",
              "</table>\n",
              "</div>\n",
              "    <div class=\"colab-df-buttons\">\n",
              "\n",
              "  <div class=\"colab-df-container\">\n",
              "    <button class=\"colab-df-convert\" onclick=\"convertToInteractive('df-2fa29a45-bf49-49ba-a9e5-c048f1ddefe1')\"\n",
              "            title=\"Convert this dataframe to an interactive table.\"\n",
              "            style=\"display:none;\">\n",
              "\n",
              "  <svg xmlns=\"http://www.w3.org/2000/svg\" height=\"24px\" viewBox=\"0 -960 960 960\">\n",
              "    <path d=\"M120-120v-720h720v720H120Zm60-500h600v-160H180v160Zm220 220h160v-160H400v160Zm0 220h160v-160H400v160ZM180-400h160v-160H180v160Zm440 0h160v-160H620v160ZM180-180h160v-160H180v160Zm440 0h160v-160H620v160Z\"/>\n",
              "  </svg>\n",
              "    </button>\n",
              "\n",
              "  <style>\n",
              "    .colab-df-container {\n",
              "      display:flex;\n",
              "      gap: 12px;\n",
              "    }\n",
              "\n",
              "    .colab-df-convert {\n",
              "      background-color: #E8F0FE;\n",
              "      border: none;\n",
              "      border-radius: 50%;\n",
              "      cursor: pointer;\n",
              "      display: none;\n",
              "      fill: #1967D2;\n",
              "      height: 32px;\n",
              "      padding: 0 0 0 0;\n",
              "      width: 32px;\n",
              "    }\n",
              "\n",
              "    .colab-df-convert:hover {\n",
              "      background-color: #E2EBFA;\n",
              "      box-shadow: 0px 1px 2px rgba(60, 64, 67, 0.3), 0px 1px 3px 1px rgba(60, 64, 67, 0.15);\n",
              "      fill: #174EA6;\n",
              "    }\n",
              "\n",
              "    .colab-df-buttons div {\n",
              "      margin-bottom: 4px;\n",
              "    }\n",
              "\n",
              "    [theme=dark] .colab-df-convert {\n",
              "      background-color: #3B4455;\n",
              "      fill: #D2E3FC;\n",
              "    }\n",
              "\n",
              "    [theme=dark] .colab-df-convert:hover {\n",
              "      background-color: #434B5C;\n",
              "      box-shadow: 0px 1px 3px 1px rgba(0, 0, 0, 0.15);\n",
              "      filter: drop-shadow(0px 1px 2px rgba(0, 0, 0, 0.3));\n",
              "      fill: #FFFFFF;\n",
              "    }\n",
              "  </style>\n",
              "\n",
              "    <script>\n",
              "      const buttonEl =\n",
              "        document.querySelector('#df-2fa29a45-bf49-49ba-a9e5-c048f1ddefe1 button.colab-df-convert');\n",
              "      buttonEl.style.display =\n",
              "        google.colab.kernel.accessAllowed ? 'block' : 'none';\n",
              "\n",
              "      async function convertToInteractive(key) {\n",
              "        const element = document.querySelector('#df-2fa29a45-bf49-49ba-a9e5-c048f1ddefe1');\n",
              "        const dataTable =\n",
              "          await google.colab.kernel.invokeFunction('convertToInteractive',\n",
              "                                                    [key], {});\n",
              "        if (!dataTable) return;\n",
              "\n",
              "        const docLinkHtml = 'Like what you see? Visit the ' +\n",
              "          '<a target=\"_blank\" href=https://colab.research.google.com/notebooks/data_table.ipynb>data table notebook</a>'\n",
              "          + ' to learn more about interactive tables.';\n",
              "        element.innerHTML = '';\n",
              "        dataTable['output_type'] = 'display_data';\n",
              "        await google.colab.output.renderOutput(dataTable, element);\n",
              "        const docLink = document.createElement('div');\n",
              "        docLink.innerHTML = docLinkHtml;\n",
              "        element.appendChild(docLink);\n",
              "      }\n",
              "    </script>\n",
              "  </div>\n",
              "\n",
              "\n",
              "<div id=\"df-ec2f1516-65d5-46d8-be3a-8f17639d4ab7\">\n",
              "  <button class=\"colab-df-quickchart\" onclick=\"quickchart('df-ec2f1516-65d5-46d8-be3a-8f17639d4ab7')\"\n",
              "            title=\"Suggest charts\"\n",
              "            style=\"display:none;\">\n",
              "\n",
              "<svg xmlns=\"http://www.w3.org/2000/svg\" height=\"24px\"viewBox=\"0 0 24 24\"\n",
              "     width=\"24px\">\n",
              "    <g>\n",
              "        <path d=\"M19 3H5c-1.1 0-2 .9-2 2v14c0 1.1.9 2 2 2h14c1.1 0 2-.9 2-2V5c0-1.1-.9-2-2-2zM9 17H7v-7h2v7zm4 0h-2V7h2v10zm4 0h-2v-4h2v4z\"/>\n",
              "    </g>\n",
              "</svg>\n",
              "  </button>\n",
              "\n",
              "<style>\n",
              "  .colab-df-quickchart {\n",
              "      --bg-color: #E8F0FE;\n",
              "      --fill-color: #1967D2;\n",
              "      --hover-bg-color: #E2EBFA;\n",
              "      --hover-fill-color: #174EA6;\n",
              "      --disabled-fill-color: #AAA;\n",
              "      --disabled-bg-color: #DDD;\n",
              "  }\n",
              "\n",
              "  [theme=dark] .colab-df-quickchart {\n",
              "      --bg-color: #3B4455;\n",
              "      --fill-color: #D2E3FC;\n",
              "      --hover-bg-color: #434B5C;\n",
              "      --hover-fill-color: #FFFFFF;\n",
              "      --disabled-bg-color: #3B4455;\n",
              "      --disabled-fill-color: #666;\n",
              "  }\n",
              "\n",
              "  .colab-df-quickchart {\n",
              "    background-color: var(--bg-color);\n",
              "    border: none;\n",
              "    border-radius: 50%;\n",
              "    cursor: pointer;\n",
              "    display: none;\n",
              "    fill: var(--fill-color);\n",
              "    height: 32px;\n",
              "    padding: 0;\n",
              "    width: 32px;\n",
              "  }\n",
              "\n",
              "  .colab-df-quickchart:hover {\n",
              "    background-color: var(--hover-bg-color);\n",
              "    box-shadow: 0 1px 2px rgba(60, 64, 67, 0.3), 0 1px 3px 1px rgba(60, 64, 67, 0.15);\n",
              "    fill: var(--button-hover-fill-color);\n",
              "  }\n",
              "\n",
              "  .colab-df-quickchart-complete:disabled,\n",
              "  .colab-df-quickchart-complete:disabled:hover {\n",
              "    background-color: var(--disabled-bg-color);\n",
              "    fill: var(--disabled-fill-color);\n",
              "    box-shadow: none;\n",
              "  }\n",
              "\n",
              "  .colab-df-spinner {\n",
              "    border: 2px solid var(--fill-color);\n",
              "    border-color: transparent;\n",
              "    border-bottom-color: var(--fill-color);\n",
              "    animation:\n",
              "      spin 1s steps(1) infinite;\n",
              "  }\n",
              "\n",
              "  @keyframes spin {\n",
              "    0% {\n",
              "      border-color: transparent;\n",
              "      border-bottom-color: var(--fill-color);\n",
              "      border-left-color: var(--fill-color);\n",
              "    }\n",
              "    20% {\n",
              "      border-color: transparent;\n",
              "      border-left-color: var(--fill-color);\n",
              "      border-top-color: var(--fill-color);\n",
              "    }\n",
              "    30% {\n",
              "      border-color: transparent;\n",
              "      border-left-color: var(--fill-color);\n",
              "      border-top-color: var(--fill-color);\n",
              "      border-right-color: var(--fill-color);\n",
              "    }\n",
              "    40% {\n",
              "      border-color: transparent;\n",
              "      border-right-color: var(--fill-color);\n",
              "      border-top-color: var(--fill-color);\n",
              "    }\n",
              "    60% {\n",
              "      border-color: transparent;\n",
              "      border-right-color: var(--fill-color);\n",
              "    }\n",
              "    80% {\n",
              "      border-color: transparent;\n",
              "      border-right-color: var(--fill-color);\n",
              "      border-bottom-color: var(--fill-color);\n",
              "    }\n",
              "    90% {\n",
              "      border-color: transparent;\n",
              "      border-bottom-color: var(--fill-color);\n",
              "    }\n",
              "  }\n",
              "</style>\n",
              "\n",
              "  <script>\n",
              "    async function quickchart(key) {\n",
              "      const quickchartButtonEl =\n",
              "        document.querySelector('#' + key + ' button');\n",
              "      quickchartButtonEl.disabled = true;  // To prevent multiple clicks.\n",
              "      quickchartButtonEl.classList.add('colab-df-spinner');\n",
              "      try {\n",
              "        const charts = await google.colab.kernel.invokeFunction(\n",
              "            'suggestCharts', [key], {});\n",
              "      } catch (error) {\n",
              "        console.error('Error during call to suggestCharts:', error);\n",
              "      }\n",
              "      quickchartButtonEl.classList.remove('colab-df-spinner');\n",
              "      quickchartButtonEl.classList.add('colab-df-quickchart-complete');\n",
              "    }\n",
              "    (() => {\n",
              "      let quickchartButtonEl =\n",
              "        document.querySelector('#df-ec2f1516-65d5-46d8-be3a-8f17639d4ab7 button');\n",
              "      quickchartButtonEl.style.display =\n",
              "        google.colab.kernel.accessAllowed ? 'block' : 'none';\n",
              "    })();\n",
              "  </script>\n",
              "</div>\n",
              "\n",
              "    </div>\n",
              "  </div>\n"
            ],
            "application/vnd.google.colaboratory.intrinsic+json": {
              "type": "dataframe",
              "summary": "{\n  \"name\": \"df\",\n  \"rows\": 8,\n  \"fields\": [\n    {\n      \"column\": \"revenues\",\n      \"properties\": {\n        \"dtype\": \"number\",\n        \"std\": 882023.892826327,\n        \"min\": 85.6,\n        \"max\": 2586711.9,\n        \"num_unique_values\": 8,\n        \"samples\": [\n          163272.69379951016,\n          108201.1,\n          1061.0\n        ],\n        \"semantic_type\": \"\",\n        \"description\": \"\"\n      }\n    },\n    {\n      \"column\": \"ebit\",\n      \"properties\": {\n        \"dtype\": \"number\",\n        \"std\": 100595.06976728782,\n        \"min\": -29982.97988,\n        \"max\": 289541.3,\n        \"num_unique_values\": 8,\n        \"samples\": [\n          24076.40680961668,\n          12224.61195,\n          1061.0\n        ],\n        \"semantic_type\": \"\",\n        \"description\": \"\"\n      }\n    },\n    {\n      \"column\": \"depreciation\",\n      \"properties\": {\n        \"dtype\": \"number\",\n        \"std\": 44057.37435424973,\n        \"min\": -5.69,\n        \"max\": 128993.5,\n        \"num_unique_values\": 8,\n        \"samples\": [\n          8002.050366635249,\n          3446.25,\n          1061.0\n        ],\n        \"semantic_type\": \"\",\n        \"description\": \"\"\n      }\n    },\n    {\n      \"column\": \"capex\",\n      \"properties\": {\n        \"dtype\": \"number\",\n        \"std\": 70510.65907942971,\n        \"min\": -694.661,\n        \"max\": 205525.7,\n        \"num_unique_values\": 8,\n        \"samples\": [\n          10961.602205466543,\n          4949.447,\n          1061.0\n        ],\n        \"semantic_type\": \"\",\n        \"description\": \"\"\n      }\n    },\n    {\n      \"column\": \"ncwc\",\n      \"properties\": {\n        \"dtype\": \"number\",\n        \"std\": 226487.41904970765,\n        \"min\": -118819.899,\n        \"max\": 623588.7,\n        \"num_unique_values\": 8,\n        \"samples\": [\n          22324.130946279547,\n          10736.2,\n          1061.0\n        ],\n        \"semantic_type\": \"\",\n        \"description\": \"\"\n      }\n    },\n    {\n      \"column\": \"bv\",\n      \"properties\": {\n        \"dtype\": \"number\",\n        \"std\": 342677.31527034246,\n        \"min\": -15039.647,\n        \"max\": 1009025.8,\n        \"num_unique_values\": 8,\n        \"samples\": [\n          80571.61692554194,\n          41722.9,\n          1061.0\n        ],\n        \"semantic_type\": \"\",\n        \"description\": \"\"\n      }\n    },\n    {\n      \"column\": \"y\",\n      \"properties\": {\n        \"dtype\": \"number\",\n        \"std\": 1415294.699374339,\n        \"min\": 369.2,\n        \"max\": 4175891.774,\n        \"num_unique_values\": 8,\n        \"samples\": [\n          329223.752084065,\n          185041.5662,\n          1061.0\n        ],\n        \"semantic_type\": \"\",\n        \"description\": \"\"\n      }\n    }\n  ]\n}"
            }
          },
          "metadata": {},
          "execution_count": 13
        }
      ]
    },
    {
      "cell_type": "code",
      "execution_count": 14,
      "id": "e4ea6e54",
      "metadata": {
        "id": "e4ea6e54",
        "outputId": "6cf037be-bc71-4407-d633-3ed3921bf7b4",
        "colab": {
          "base_uri": "https://localhost:8080/",
          "height": 1000
        }
      },
      "outputs": [
        {
          "output_type": "display_data",
          "data": {
            "text/plain": [
              "<Figure size 1000x600 with 1 Axes>"
            ],
            "image/png": "[encoded data removed]"
          },
          "metadata": {}
        },
        {
          "output_type": "display_data",
          "data": {
            "text/plain": [
              "<Figure size 1000x600 with 1 Axes>"
            ],
            "image/png": "[encoded data removed]"
          },
          "metadata": {}
        },
        {
          "output_type": "display_data",
          "data": {
            "text/plain": [
              "<Figure size 1000x600 with 1 Axes>"
            ],
            "image/png": "[encoded data removed]"
          },
          "metadata": {}
        },
        {
          "output_type": "display_data",
          "data": {
            "text/plain": [
              "<Figure size 1000x600 with 1 Axes>"
            ],
            "image/png": "[encoded data removed]"
          },
          "metadata": {}
        },
        {
          "output_type": "display_data",
          "data": {
            "text/plain": [
              "<Figure size 1000x600 with 1 Axes>"
            ],
            "image/png": "[encoded data removed]"
          },
          "metadata": {}
        },
        {
          "output_type": "display_data",
          "data": {
            "text/plain": [
              "<Figure size 1000x600 with 1 Axes>"
            ],
            "image/png": "[encoded data removed]"
          },
          "metadata": {}
        },
        {
          "output_type": "display_data",
          "data": {
            "text/plain": [
              "<Figure size 1000x600 with 1 Axes>"
            ],
            "image/png": "[encoded data removed]"
          },
          "metadata": {}
        }
      ],
      "source": [
        "for col in df.select_dtypes(include=['number']).columns:\n",
        "    plt.figure()\n",
        "    sns.histplot(df[col], kde=True)\n",
        "    plt.title(f'Distribución de {col}')\n",
        "    plt.xlabel(col)\n",
        "    plt.ylabel('Frecuencia')\n",
        "    plt.show()\n"
      ]
    },
    {
      "cell_type": "markdown",
      "id": "9651d690",
      "metadata": {
        "id": "9651d690"
      },
      "source": [
        "### Preguntas de Reflexión (Exploración)\n",
        "1. ¿Qué tipo de problema estás intentando resolver al usar `y` como variable objetivo?\n",
        "2. ¿Notas valores atípicos (outliers) en alguna de las variables? ¿Cómo podría afectar a la regresión lineal?\n",
        "3. ¿Crees que la columna `valuationdate` podría aportar información para predecir `y`, o la excluirías del análisis?\n",
        "\n",
        "_Responde con tu razonamiento propio aquí._"
      ]
    },
    {
      "cell_type": "markdown",
      "source": [
        "*PRIMERO*"
      ],
      "metadata": {
        "id": "9_jS0Up3Viwf"
      },
      "id": "9_jS0Up3Viwf"
    },
    {
      "cell_type": "markdown",
      "source": [
        "El problema que se está intentando resolver es de predicción, específicamente un problema de regresión.\n",
        "\n",
        "Razonamiento:\n",
        "\n",
        "y es una variable continua: En el comentario del código, se menciona que y representa un valor financiero o de valoración. Estos valores suelen ser continuos (pueden tomar cualquier valor dentro de un rango).\n",
        "Se usa Regresión Lineal: El título del notebook y el código indican que el objetivo es realizar un análisis de regresión lineal. La regresión lineal se utiliza para predecir variables continuas.\n",
        "Objetivo: Se busca un modelo que pueda predecir el valor de y en función de otras variables (ingresos, utilidad, depreciación, etc.)."
      ],
      "metadata": {
        "id": "RVYrHsKgVnmY"
      },
      "id": "RVYrHsKgVnmY"
    },
    {
      "cell_type": "markdown",
      "source": [
        "*SEGUNDO*"
      ],
      "metadata": {
        "id": "rYV1OgM6Vqz_"
      },
      "id": "rYV1OgM6Vqz_"
    },
    {
      "cell_type": "markdown",
      "source": [
        "Basándonos en los histogramas del documento, se observa la presencia de posibles outliers en varias variables, asi como algunos valores muy altos y valores atipicos potenciales. Estos outliers pueden afectar negativamente la regresión lineal, distorsionando la línea de regresión, afectando la estimación de los coeficientes y reduciendo la precisión del modelo."
      ],
      "metadata": {
        "id": "3RA_RhBKWUBA"
      },
      "id": "3RA_RhBKWUBA"
    },
    {
      "cell_type": "markdown",
      "source": [
        "*TERCERO*"
      ],
      "metadata": {
        "id": "XUzyUmKkWpF5"
      },
      "id": "XUzyUmKkWpF5"
    },
    {
      "cell_type": "markdown",
      "source": [
        "La columna valuationdate podría aportar información para predecir y, pero es necesario realizar un análisis más profundo para determinar su relevancia. Cabe aclarar que valuationdate es una variable de tipo fecha, que representa el momento en que se realizó la valoración, La relación entre la fecha de valoración y la variable objetivo puede ser compleja y depender del contexto específico del dataset."
      ],
      "metadata": {
        "id": "CnHyW3QXWr_A"
      },
      "id": "CnHyW3QXWr_A"
    },
    {
      "cell_type": "markdown",
      "id": "32046c34",
      "metadata": {
        "id": "32046c34"
      },
      "source": [
        "## Paso 2: Preparación y Limpieza de Datos\n",
        "\n",
        "1. **Manejo de valores faltantes**.\n",
        "2. **Posible eliminación** o **imputación** de outliers.\n",
        "3. **Transformaciones** (escalado, log, etc.) si son necesarias."
      ]
    },
    {
      "cell_type": "code",
      "source": [
        "import numpy as np"
      ],
      "metadata": {
        "id": "OAWlhDpSXl1Q"
      },
      "id": "OAWlhDpSXl1Q",
      "execution_count": 15,
      "outputs": []
    },
    {
      "cell_type": "code",
      "source": [
        "df.dropna(inplace=True)"
      ],
      "metadata": {
        "id": "NtZHIIzCXpC4"
      },
      "id": "NtZHIIzCXpC4",
      "execution_count": 16,
      "outputs": []
    },
    {
      "cell_type": "code",
      "source": [
        "for col in df.select_dtypes(include=['number']).columns:\n",
        "    Q1 = df[col].quantile(0.25)\n",
        "    Q3 = df[col].quantile(0.75)\n",
        "    IQR = Q3 - Q1\n",
        "    lower_bound = Q1 - 1.5 * IQR\n",
        "    upper_bound = Q3 + 1.5 * IQR\n",
        "    df = df[(df[col] >= lower_bound) & (df[col] <= upper_bound)]\n"
      ],
      "metadata": {
        "id": "oyNuwHQkXeE4"
      },
      "id": "oyNuwHQkXeE4",
      "execution_count": 19,
      "outputs": []
    },
    {
      "cell_type": "code",
      "source": [
        "scaler = StandardScaler()\n",
        "numeric_cols = df.select_dtypes(include=['number']).columns\n",
        "df[numeric_cols] = scaler.fit_transform(df[numeric_cols])"
      ],
      "metadata": {
        "id": "Xk9Vk6VNXu6o"
      },
      "id": "Xk9Vk6VNXu6o",
      "execution_count": 20,
      "outputs": []
    },
    {
      "cell_type": "code",
      "source": [
        "df = df.drop('valuationdate', axis=1)"
      ],
      "metadata": {
        "id": "v312uBb0XxZY"
      },
      "id": "v312uBb0XxZY",
      "execution_count": 21,
      "outputs": []
    },
    {
      "cell_type": "markdown",
      "id": "2f0ef045",
      "metadata": {
        "id": "2f0ef045"
      },
      "source": [
        "### Pregunta de Reflexión (Limpieza)\n",
        "¿Por qué es relevante tratar valores faltantes y/o outliers **antes** de entrenar el modelo de regresión lineal?\n",
        "\n",
        "_Responde con tu razonamiento aquí._"
      ]
    },
    {
      "cell_type": "markdown",
      "source": [
        "tratar los valores faltantes y outliers antes del entrenamiento ayuda a\n",
        "mejorar la precisión del modelo, reducir el sesgo en las predicciones,\n",
        "asegurar que el modelo sea más robusto y generalizar mejor a nuevos datos.\n",
        "Es fundamental tratar los valores faltantes y outliers antes de entrenar un modelo de regresión lineal por las siguientes razones:\n",
        "\n",
        "los valores Faltantes:\n",
        "\n",
        "Errores en el entrenamiento: La mayoría de los algoritmos de aprendizaje automático, incluyendo la regresión lineal, no pueden manejar valores faltantes directamente. Si no se tratan, el modelo podría no entrenarse correctamente o incluso arrojar un error.\n",
        "\n",
        "Sesgo en los resultados: Los valores faltantes pueden introducir sesgos en el modelo si no se distribuyen aleatoriamente en los datos. Por ejemplo, si los valores faltantes en una variable están relacionados con el valor de la variable objetivo, el modelo podría aprender patrones incorrectos.\n",
        "\n",
        "Reducción de la precisión: Los valores faltantes reducen la cantidad de datos disponibles para el entrenamiento, lo que puede afectar la precisión del modelo.\n",
        "\n"
      ],
      "metadata": {
        "id": "2Vy3s-TBYLYY"
      },
      "id": "2Vy3s-TBYLYY"
    },
    {
      "cell_type": "markdown",
      "id": "38c1f6f8",
      "metadata": {
        "id": "38c1f6f8"
      },
      "source": [
        "## Paso 4: Selección de Variables e Implementación del Modelo\n",
        "\n",
        "1. **Seleccionar** cuáles columnas usarás como variables explicativas (features). Puede que uses todas o hagas una selección.\n",
        "2. **Asignar** `X` (features) y `y` (variable objetivo).\n",
        "3. **Dividir** en conjunto de entrenamiento (train) y conjunto de prueba (test)."
      ]
    },
    {
      "cell_type": "code",
      "execution_count": 22,
      "id": "bdd7bace",
      "metadata": {
        "id": "bdd7bace"
      },
      "outputs": [],
      "source": [
        "features = ['revenues', 'ebit', 'depreciation', 'capex', 'ncwc', 'bv']"
      ]
    },
    {
      "cell_type": "code",
      "source": [
        "X = df[features]\n",
        "y = df['y']"
      ],
      "metadata": {
        "id": "aBp2k8zDZCyq"
      },
      "id": "aBp2k8zDZCyq",
      "execution_count": 23,
      "outputs": []
    },
    {
      "cell_type": "code",
      "source": [
        "X_train, X_test, y_train, y_test = train_test_split(X, y, test_size=0.2, random_state=42)"
      ],
      "metadata": {
        "id": "299veU12ZD5h"
      },
      "id": "299veU12ZD5h",
      "execution_count": 24,
      "outputs": []
    },
    {
      "cell_type": "markdown",
      "id": "2958d1c2",
      "metadata": {
        "id": "2958d1c2"
      },
      "source": [
        "### Preguntas de Reflexión (Selección de Variables)\n",
        "1. ¿Por qué es importante separar los datos en train y test?\n",
        "2. ¿Qué pasaría si entrenas y evalúas en el **mismo** conjunto de datos?\n",
        "\n",
        "_Responde con tu razonamiento._"
      ]
    },
    {
      "cell_type": "markdown",
      "source": [
        "*PRIMERO*"
      ],
      "metadata": {
        "id": "LDvqUUb5ZIrh"
      },
      "id": "LDvqUUb5ZIrh"
    },
    {
      "cell_type": "markdown",
      "source": [
        "Es fundamental separar los datos en conjuntos de entrenamiento (train) y prueba (test) porque:\n",
        "Evaluación del Modelo: El conjunto de prueba permite simular cómo se comportaría el modelo con datos nuevos e invisibles durante el entrenamiento.\n",
        "Evitar el Sobreajuste (Overfitting): Si se entrena y evalúa un modelo con los mismos datos, existe el riesgo de sobreajuste. El modelo podría memorizar los datos de entrenamiento y obtener un rendimiento en ellos.\n",
        "\n",
        "Mejorar la Generalización: Al entrenar el modelo solo con una parte de los datos (train) y probarlo con otra (test), se busca que el modelo aprenda patrones generales en lugar de detalles específicos del conjunto de entrenamiento.\n",
        "Es importante seprarar los datos para evaluar la capacidad de generalización del modelo, evitar el sobreajuste y asegurar un rendimiento confiable."
      ],
      "metadata": {
        "id": "azDBQwW6ZaIB"
      },
      "id": "azDBQwW6ZaIB"
    },
    {
      "cell_type": "markdown",
      "source": [
        "*SEGUNDO*"
      ],
      "metadata": {
        "id": "CSu67SJJaSvZ"
      },
      "id": "CSu67SJJaSvZ"
    },
    {
      "cell_type": "markdown",
      "source": [
        "Si entrenas y evalúas un modelo en el mismo conjunto de datos, hay riesgo a un problema llamado sobreajuste (overfitting).\n",
        "Esto ocurre cuando un modelo aprende los datos de entrenamiento con demasiado detalle, incluyendo el ruido y las particularidades específicas de ese conjunto de datos. En lugar de aprender patrones generales, el modelo memoriza los ejemplos de entrenamiento.\n",
        "En resumen entrenar y evaluar un modelo en el mismo conjunto de datos lleva al sobreajuste, por esto es importante separar los datos en conjuntos de prueba."
      ],
      "metadata": {
        "id": "ftPm5-2uaU4Z"
      },
      "id": "ftPm5-2uaU4Z"
    },
    {
      "cell_type": "markdown",
      "id": "3b685686",
      "metadata": {
        "id": "3b685686"
      },
      "source": [
        "## Paso 5: Entrenar el Modelo de Regresión Lineal\n",
        "Usaremos la clase `LinearRegression` de scikit-learn."
      ]
    },
    {
      "cell_type": "code",
      "source": [
        "model = LinearRegression()"
      ],
      "metadata": {
        "id": "mZu3wgfea-Ji"
      },
      "id": "mZu3wgfea-Ji",
      "execution_count": 25,
      "outputs": []
    },
    {
      "cell_type": "code",
      "source": [
        "model.fit(X_train, y_train)"
      ],
      "metadata": {
        "id": "nMqiMHAAa_lB",
        "outputId": "ba3f1c00-ca77-4f61-9efc-959a32c74194",
        "colab": {
          "base_uri": "https://localhost:8080/",
          "height": 80
        }
      },
      "id": "nMqiMHAAa_lB",
      "execution_count": 26,
      "outputs": [
        {
          "output_type": "execute_result",
          "data": {
            "text/plain": [
              "LinearRegression()"
            ],
            "text/html": [
              "<style>#sk-container-id-1 {\n",
              "  /* Definition of color scheme common for light and dark mode */\n",
              "  --sklearn-color-text: #000;\n",
              "  --sklearn-color-text-muted: #666;\n",
              "  --sklearn-color-line: gray;\n",
              "  /* Definition of color scheme for unfitted estimators */\n",
              "  --sklearn-color-unfitted-level-0: #fff5e6;\n",
              "  --sklearn-color-unfitted-level-1: #f6e4d2;\n",
              "  --sklearn-color-unfitted-level-2: #ffe0b3;\n",
              "  --sklearn-color-unfitted-level-3: chocolate;\n",
              "  /* Definition of color scheme for fitted estimators */\n",
              "  --sklearn-color-fitted-level-0: #f0f8ff;\n",
              "  --sklearn-color-fitted-level-1: #d4ebff;\n",
              "  --sklearn-color-fitted-level-2: #b3dbfd;\n",
              "  --sklearn-color-fitted-level-3: cornflowerblue;\n",
              "\n",
              "  /* Specific color for light theme */\n",
              "  --sklearn-color-text-on-default-background: var(--sg-text-color, var(--theme-code-foreground, var(--jp-content-font-color1, black)));\n",
              "  --sklearn-color-background: var(--sg-background-color, var(--theme-background, var(--jp-layout-color0, white)));\n",
              "  --sklearn-color-border-box: var(--sg-text-color, var(--theme-code-foreground, var(--jp-content-font-color1, black)));\n",
              "  --sklearn-color-icon: #696969;\n",
              "\n",
              "  @media (prefers-color-scheme: dark) {\n",
              "    /* Redefinition of color scheme for dark theme */\n",
              "    --sklearn-color-text-on-default-background: var(--sg-text-color, var(--theme-code-foreground, var(--jp-content-font-color1, white)));\n",
              "    --sklearn-color-background: var(--sg-background-color, var(--theme-background, var(--jp-layout-color0, #111)));\n",
              "    --sklearn-color-border-box: var(--sg-text-color, var(--theme-code-foreground, var(--jp-content-font-color1, white)));\n",
              "    --sklearn-color-icon: #878787;\n",
              "  }\n",
              "}\n",
              "\n",
              "#sk-container-id-1 {\n",
              "  color: var(--sklearn-color-text);\n",
              "}\n",
              "\n",
              "#sk-container-id-1 pre {\n",
              "  padding: 0;\n",
              "}\n",
              "\n",
              "#sk-container-id-1 input.sk-hidden--visually {\n",
              "  border: 0;\n",
              "  clip: rect(1px 1px 1px 1px);\n",
              "  clip: rect(1px, 1px, 1px, 1px);\n",
              "  height: 1px;\n",
              "  margin: -1px;\n",
              "  overflow: hidden;\n",
              "  padding: 0;\n",
              "  position: absolute;\n",
              "  width: 1px;\n",
              "}\n",
              "\n",
              "#sk-container-id-1 div.sk-dashed-wrapped {\n",
              "  border: 1px dashed var(--sklearn-color-line);\n",
              "  margin: 0 0.4em 0.5em 0.4em;\n",
              "  box-sizing: border-box;\n",
              "  padding-bottom: 0.4em;\n",
              "  background-color: var(--sklearn-color-background);\n",
              "}\n",
              "\n",
              "#sk-container-id-1 div.sk-container {\n",
              "  /* jupyter's `normalize.less` sets `[hidden] { display: none; }`\n",
              "     but bootstrap.min.css set `[hidden] { display: none !important; }`\n",
              "     so we also need the `!important` here to be able to override the\n",
              "     default hidden behavior on the sphinx rendered scikit-learn.org.\n",
              "     See: https://github.com/scikit-learn/scikit-learn/issues/21755 */\n",
              "  display: inline-block !important;\n",
              "  position: relative;\n",
              "}\n",
              "\n",
              "#sk-container-id-1 div.sk-text-repr-fallback {\n",
              "  display: none;\n",
              "}\n",
              "\n",
              "div.sk-parallel-item,\n",
              "div.sk-serial,\n",
              "div.sk-item {\n",
              "  /* draw centered vertical line to link estimators */\n",
              "  background-image: linear-gradient(var(--sklearn-color-text-on-default-background), var(--sklearn-color-text-on-default-background));\n",
              "  background-size: 2px 100%;\n",
              "  background-repeat: no-repeat;\n",
              "  background-position: center center;\n",
              "}\n",
              "\n",
              "/* Parallel-specific style estimator block */\n",
              "\n",
              "#sk-container-id-1 div.sk-parallel-item::after {\n",
              "  content: \"\";\n",
              "  width: 100%;\n",
              "  border-bottom: 2px solid var(--sklearn-color-text-on-default-background);\n",
              "  flex-grow: 1;\n",
              "}\n",
              "\n",
              "#sk-container-id-1 div.sk-parallel {\n",
              "  display: flex;\n",
              "  align-items: stretch;\n",
              "  justify-content: center;\n",
              "  background-color: var(--sklearn-color-background);\n",
              "  position: relative;\n",
              "}\n",
              "\n",
              "#sk-container-id-1 div.sk-parallel-item {\n",
              "  display: flex;\n",
              "  flex-direction: column;\n",
              "}\n",
              "\n",
              "#sk-container-id-1 div.sk-parallel-item:first-child::after {\n",
              "  align-self: flex-end;\n",
              "  width: 50%;\n",
              "}\n",
              "\n",
              "#sk-container-id-1 div.sk-parallel-item:last-child::after {\n",
              "  align-self: flex-start;\n",
              "  width: 50%;\n",
              "}\n",
              "\n",
              "#sk-container-id-1 div.sk-parallel-item:only-child::after {\n",
              "  width: 0;\n",
              "}\n",
              "\n",
              "/* Serial-specific style estimator block */\n",
              "\n",
              "#sk-container-id-1 div.sk-serial {\n",
              "  display: flex;\n",
              "  flex-direction: column;\n",
              "  align-items: center;\n",
              "  background-color: var(--sklearn-color-background);\n",
              "  padding-right: 1em;\n",
              "  padding-left: 1em;\n",
              "}\n",
              "\n",
              "\n",
              "/* Toggleable style: style used for estimator/Pipeline/ColumnTransformer box that is\n",
              "clickable and can be expanded/collapsed.\n",
              "- Pipeline and ColumnTransformer use this feature and define the default style\n",
              "- Estimators will overwrite some part of the style using the `sk-estimator` class\n",
              "*/\n",
              "\n",
              "/* Pipeline and ColumnTransformer style (default) */\n",
              "\n",
              "#sk-container-id-1 div.sk-toggleable {\n",
              "  /* Default theme specific background. It is overwritten whether we have a\n",
              "  specific estimator or a Pipeline/ColumnTransformer */\n",
              "  background-color: var(--sklearn-color-background);\n",
              "}\n",
              "\n",
              "/* Toggleable label */\n",
              "#sk-container-id-1 label.sk-toggleable__label {\n",
              "  cursor: pointer;\n",
              "  display: flex;\n",
              "  width: 100%;\n",
              "  margin-bottom: 0;\n",
              "  padding: 0.5em;\n",
              "  box-sizing: border-box;\n",
              "  text-align: center;\n",
              "  align-items: start;\n",
              "  justify-content: space-between;\n",
              "  gap: 0.5em;\n",
              "}\n",
              "\n",
              "#sk-container-id-1 label.sk-toggleable__label .caption {\n",
              "  font-size: 0.6rem;\n",
              "  font-weight: lighter;\n",
              "  color: var(--sklearn-color-text-muted);\n",
              "}\n",
              "\n",
              "#sk-container-id-1 label.sk-toggleable__label-arrow:before {\n",
              "  /* Arrow on the left of the label */\n",
              "  content: \"▸\";\n",
              "  float: left;\n",
              "  margin-right: 0.25em;\n",
              "  color: var(--sklearn-color-icon);\n",
              "}\n",
              "\n",
              "#sk-container-id-1 label.sk-toggleable__label-arrow:hover:before {\n",
              "  color: var(--sklearn-color-text);\n",
              "}\n",
              "\n",
              "/* Toggleable content - dropdown */\n",
              "\n",
              "#sk-container-id-1 div.sk-toggleable__content {\n",
              "  max-height: 0;\n",
              "  max-width: 0;\n",
              "  overflow: hidden;\n",
              "  text-align: left;\n",
              "  /* unfitted */\n",
              "  background-color: var(--sklearn-color-unfitted-level-0);\n",
              "}\n",
              "\n",
              "#sk-container-id-1 div.sk-toggleable__content.fitted {\n",
              "  /* fitted */\n",
              "  background-color: var(--sklearn-color-fitted-level-0);\n",
              "}\n",
              "\n",
              "#sk-container-id-1 div.sk-toggleable__content pre {\n",
              "  margin: 0.2em;\n",
              "  border-radius: 0.25em;\n",
              "  color: var(--sklearn-color-text);\n",
              "  /* unfitted */\n",
              "  background-color: var(--sklearn-color-unfitted-level-0);\n",
              "}\n",
              "\n",
              "#sk-container-id-1 div.sk-toggleable__content.fitted pre {\n",
              "  /* unfitted */\n",
              "  background-color: var(--sklearn-color-fitted-level-0);\n",
              "}\n",
              "\n",
              "#sk-container-id-1 input.sk-toggleable__control:checked~div.sk-toggleable__content {\n",
              "  /* Expand drop-down */\n",
              "  max-height: 200px;\n",
              "  max-width: 100%;\n",
              "  overflow: auto;\n",
              "}\n",
              "\n",
              "#sk-container-id-1 input.sk-toggleable__control:checked~label.sk-toggleable__label-arrow:before {\n",
              "  content: \"▾\";\n",
              "}\n",
              "\n",
              "/* Pipeline/ColumnTransformer-specific style */\n",
              "\n",
              "#sk-container-id-1 div.sk-label input.sk-toggleable__control:checked~label.sk-toggleable__label {\n",
              "  color: var(--sklearn-color-text);\n",
              "  background-color: var(--sklearn-color-unfitted-level-2);\n",
              "}\n",
              "\n",
              "#sk-container-id-1 div.sk-label.fitted input.sk-toggleable__control:checked~label.sk-toggleable__label {\n",
              "  background-color: var(--sklearn-color-fitted-level-2);\n",
              "}\n",
              "\n",
              "/* Estimator-specific style */\n",
              "\n",
              "/* Colorize estimator box */\n",
              "#sk-container-id-1 div.sk-estimator input.sk-toggleable__control:checked~label.sk-toggleable__label {\n",
              "  /* unfitted */\n",
              "  background-color: var(--sklearn-color-unfitted-level-2);\n",
              "}\n",
              "\n",
              "#sk-container-id-1 div.sk-estimator.fitted input.sk-toggleable__control:checked~label.sk-toggleable__label {\n",
              "  /* fitted */\n",
              "  background-color: var(--sklearn-color-fitted-level-2);\n",
              "}\n",
              "\n",
              "#sk-container-id-1 div.sk-label label.sk-toggleable__label,\n",
              "#sk-container-id-1 div.sk-label label {\n",
              "  /* The background is the default theme color */\n",
              "  color: var(--sklearn-color-text-on-default-background);\n",
              "}\n",
              "\n",
              "/* On hover, darken the color of the background */\n",
              "#sk-container-id-1 div.sk-label:hover label.sk-toggleable__label {\n",
              "  color: var(--sklearn-color-text);\n",
              "  background-color: var(--sklearn-color-unfitted-level-2);\n",
              "}\n",
              "\n",
              "/* Label box, darken color on hover, fitted */\n",
              "#sk-container-id-1 div.sk-label.fitted:hover label.sk-toggleable__label.fitted {\n",
              "  color: var(--sklearn-color-text);\n",
              "  background-color: var(--sklearn-color-fitted-level-2);\n",
              "}\n",
              "\n",
              "/* Estimator label */\n",
              "\n",
              "#sk-container-id-1 div.sk-label label {\n",
              "  font-family: monospace;\n",
              "  font-weight: bold;\n",
              "  display: inline-block;\n",
              "  line-height: 1.2em;\n",
              "}\n",
              "\n",
              "#sk-container-id-1 div.sk-label-container {\n",
              "  text-align: center;\n",
              "}\n",
              "\n",
              "/* Estimator-specific */\n",
              "#sk-container-id-1 div.sk-estimator {\n",
              "  font-family: monospace;\n",
              "  border: 1px dotted var(--sklearn-color-border-box);\n",
              "  border-radius: 0.25em;\n",
              "  box-sizing: border-box;\n",
              "  margin-bottom: 0.5em;\n",
              "  /* unfitted */\n",
              "  background-color: var(--sklearn-color-unfitted-level-0);\n",
              "}\n",
              "\n",
              "#sk-container-id-1 div.sk-estimator.fitted {\n",
              "  /* fitted */\n",
              "  background-color: var(--sklearn-color-fitted-level-0);\n",
              "}\n",
              "\n",
              "/* on hover */\n",
              "#sk-container-id-1 div.sk-estimator:hover {\n",
              "  /* unfitted */\n",
              "  background-color: var(--sklearn-color-unfitted-level-2);\n",
              "}\n",
              "\n",
              "#sk-container-id-1 div.sk-estimator.fitted:hover {\n",
              "  /* fitted */\n",
              "  background-color: var(--sklearn-color-fitted-level-2);\n",
              "}\n",
              "\n",
              "/* Specification for estimator info (e.g. \"i\" and \"?\") */\n",
              "\n",
              "/* Common style for \"i\" and \"?\" */\n",
              "\n",
              ".sk-estimator-doc-link,\n",
              "a:link.sk-estimator-doc-link,\n",
              "a:visited.sk-estimator-doc-link {\n",
              "  float: right;\n",
              "  font-size: smaller;\n",
              "  line-height: 1em;\n",
              "  font-family: monospace;\n",
              "  background-color: var(--sklearn-color-background);\n",
              "  border-radius: 1em;\n",
              "  height: 1em;\n",
              "  width: 1em;\n",
              "  text-decoration: none !important;\n",
              "  margin-left: 0.5em;\n",
              "  text-align: center;\n",
              "  /* unfitted */\n",
              "  border: var(--sklearn-color-unfitted-level-1) 1pt solid;\n",
              "  color: var(--sklearn-color-unfitted-level-1);\n",
              "}\n",
              "\n",
              ".sk-estimator-doc-link.fitted,\n",
              "a:link.sk-estimator-doc-link.fitted,\n",
              "a:visited.sk-estimator-doc-link.fitted {\n",
              "  /* fitted */\n",
              "  border: var(--sklearn-color-fitted-level-1) 1pt solid;\n",
              "  color: var(--sklearn-color-fitted-level-1);\n",
              "}\n",
              "\n",
              "/* On hover */\n",
              "div.sk-estimator:hover .sk-estimator-doc-link:hover,\n",
              ".sk-estimator-doc-link:hover,\n",
              "div.sk-label-container:hover .sk-estimator-doc-link:hover,\n",
              ".sk-estimator-doc-link:hover {\n",
              "  /* unfitted */\n",
              "  background-color: var(--sklearn-color-unfitted-level-3);\n",
              "  color: var(--sklearn-color-background);\n",
              "  text-decoration: none;\n",
              "}\n",
              "\n",
              "div.sk-estimator.fitted:hover .sk-estimator-doc-link.fitted:hover,\n",
              ".sk-estimator-doc-link.fitted:hover,\n",
              "div.sk-label-container:hover .sk-estimator-doc-link.fitted:hover,\n",
              ".sk-estimator-doc-link.fitted:hover {\n",
              "  /* fitted */\n",
              "  background-color: var(--sklearn-color-fitted-level-3);\n",
              "  color: var(--sklearn-color-background);\n",
              "  text-decoration: none;\n",
              "}\n",
              "\n",
              "/* Span, style for the box shown on hovering the info icon */\n",
              ".sk-estimator-doc-link span {\n",
              "  display: none;\n",
              "  z-index: 9999;\n",
              "  position: relative;\n",
              "  font-weight: normal;\n",
              "  right: .2ex;\n",
              "  padding: .5ex;\n",
              "  margin: .5ex;\n",
              "  width: min-content;\n",
              "  min-width: 20ex;\n",
              "  max-width: 50ex;\n",
              "  color: var(--sklearn-color-text);\n",
              "  box-shadow: 2pt 2pt 4pt #999;\n",
              "  /* unfitted */\n",
              "  background: var(--sklearn-color-unfitted-level-0);\n",
              "  border: .5pt solid var(--sklearn-color-unfitted-level-3);\n",
              "}\n",
              "\n",
              ".sk-estimator-doc-link.fitted span {\n",
              "  /* fitted */\n",
              "  background: var(--sklearn-color-fitted-level-0);\n",
              "  border: var(--sklearn-color-fitted-level-3);\n",
              "}\n",
              "\n",
              ".sk-estimator-doc-link:hover span {\n",
              "  display: block;\n",
              "}\n",
              "\n",
              "/* \"?\"-specific style due to the `<a>` HTML tag */\n",
              "\n",
              "#sk-container-id-1 a.estimator_doc_link {\n",
              "  float: right;\n",
              "  font-size: 1rem;\n",
              "  line-height: 1em;\n",
              "  font-family: monospace;\n",
              "  background-color: var(--sklearn-color-background);\n",
              "  border-radius: 1rem;\n",
              "  height: 1rem;\n",
              "  width: 1rem;\n",
              "  text-decoration: none;\n",
              "  /* unfitted */\n",
              "  color: var(--sklearn-color-unfitted-level-1);\n",
              "  border: var(--sklearn-color-unfitted-level-1) 1pt solid;\n",
              "}\n",
              "\n",
              "#sk-container-id-1 a.estimator_doc_link.fitted {\n",
              "  /* fitted */\n",
              "  border: var(--sklearn-color-fitted-level-1) 1pt solid;\n",
              "  color: var(--sklearn-color-fitted-level-1);\n",
              "}\n",
              "\n",
              "/* On hover */\n",
              "#sk-container-id-1 a.estimator_doc_link:hover {\n",
              "  /* unfitted */\n",
              "  background-color: var(--sklearn-color-unfitted-level-3);\n",
              "  color: var(--sklearn-color-background);\n",
              "  text-decoration: none;\n",
              "}\n",
              "\n",
              "#sk-container-id-1 a.estimator_doc_link.fitted:hover {\n",
              "  /* fitted */\n",
              "  background-color: var(--sklearn-color-fitted-level-3);\n",
              "}\n",
              "</style><div id=\"sk-container-id-1\" class=\"sk-top-container\"><div class=\"sk-text-repr-fallback\"><pre>LinearRegression()</pre><b>In a Jupyter environment, please rerun this cell to show the HTML representation or trust the notebook. <br />On GitHub, the HTML representation is unable to render, please try loading this page with nbviewer.org.</b></div><div class=\"sk-container\" hidden><div class=\"sk-item\"><div class=\"sk-estimator fitted sk-toggleable\"><input class=\"sk-toggleable__control sk-hidden--visually\" id=\"sk-estimator-id-1\" type=\"checkbox\" checked><label for=\"sk-estimator-id-1\" class=\"sk-toggleable__label fitted sk-toggleable__label-arrow\"><div><div>LinearRegression</div></div><div><a class=\"sk-estimator-doc-link fitted\" rel=\"noreferrer\" target=\"_blank\" href=\"https://scikit-learn.org/1.6/modules/generated/sklearn.linear_model.LinearRegression.html\">?<span>Documentation for LinearRegression</span></a><span class=\"sk-estimator-doc-link fitted\">i<span>Fitted</span></span></div></label><div class=\"sk-toggleable__content fitted\"><pre>LinearRegression()</pre></div> </div></div></div></div>"
            ]
          },
          "metadata": {},
          "execution_count": 26
        }
      ]
    },
    {
      "cell_type": "code",
      "source": [
        "y_pred = model.predict(X_test)"
      ],
      "metadata": {
        "id": "ZxNDZNshbCLK"
      },
      "id": "ZxNDZNshbCLK",
      "execution_count": 27,
      "outputs": []
    },
    {
      "cell_type": "code",
      "source": [
        "mse = mean_squared_error(y_test, y_pred)\n",
        "r2 = r2_score(y_test, y_pred)"
      ],
      "metadata": {
        "id": "o3-E3cL8bD_5"
      },
      "id": "o3-E3cL8bD_5",
      "execution_count": 28,
      "outputs": []
    },
    {
      "cell_type": "code",
      "source": [
        "print(f\"Mean Squared Error (MSE): {mse}\")\n",
        "print(f\"R-squared (R2): {r2}\")\n",
        "print(\"Coeficientes:\", model.coef_)\n",
        "print(\"Intersección:\", model.intercept_)"
      ],
      "metadata": {
        "id": "UPutSwbnbGpx",
        "outputId": "a954dc80-0302-4825-97c5-50f2a9d39ab3",
        "colab": {
          "base_uri": "https://localhost:8080/"
        }
      },
      "id": "UPutSwbnbGpx",
      "execution_count": 29,
      "outputs": [
        {
          "output_type": "stream",
          "name": "stdout",
          "text": [
            "Mean Squared Error (MSE): 0.2316233554783328\n",
            "R-squared (R2): 0.750329747643131\n",
            "Coeficientes: [ 0.0047738   0.64094621 -0.02482996 -0.11270797  0.04020249  0.41927139]\n",
            "Intersección: 0.007318316937731552\n"
          ]
        }
      ]
    },
    {
      "cell_type": "markdown",
      "id": "994fd089",
      "metadata": {
        "id": "994fd089"
      },
      "source": [
        "### Interpretación de Coeficientes\n",
        "Si la lista de features es `[\"revenues\", \"ebit\", \"depreciation\", \"capex\", \"ncwc\", \"bv\"]` y tu `model.coef_` es algo como `[a, b, c, d, e, f]`, entonces:\n",
        "\n",
        "\\[ y \\approx \\beta_0 + a\\cdot revenues + b\\cdot ebit + c\\cdot depreciation + d\\cdot capex + e\\cdot ncwc + f\\cdot bv \\]\n",
        "\n",
        "Cada coeficiente indica cómo cambia `y` en promedio **por cada unidad** que se incrementa la variable (manteniendo las demás constantes)."
      ]
    },
    {
      "cell_type": "markdown",
      "id": "000bc2f3",
      "metadata": {
        "id": "000bc2f3"
      },
      "source": [
        "## Paso 6: Evaluación y Validación del Modelo\n",
        "Usaremos las siguientes métricas:\n",
        "- **MSE (Mean Squared Error)**\n",
        "- **MAE (Mean Absolute Error)**\n",
        "- **R² (Coeficiente de Determinación)**"
      ]
    },
    {
      "cell_type": "code",
      "source": [
        "from sklearn.metrics import mean_absolute_error"
      ],
      "metadata": {
        "id": "_vLPt2K_bUXJ"
      },
      "id": "_vLPt2K_bUXJ",
      "execution_count": 30,
      "outputs": []
    },
    {
      "cell_type": "code",
      "source": [
        "mae = mean_absolute_error(y_test, y_pred)\n",
        "print(f\"Mean Absolute Error (MAE): {mae}\")"
      ],
      "metadata": {
        "id": "XSeAWBKcbW6h",
        "outputId": "de4fdfee-59d1-4f50-94f1-3cc6b541a877",
        "colab": {
          "base_uri": "https://localhost:8080/"
        }
      },
      "id": "XSeAWBKcbW6h",
      "execution_count": 33,
      "outputs": [
        {
          "output_type": "stream",
          "name": "stdout",
          "text": [
            "Mean Absolute Error (MAE): 0.3300169771882091\n"
          ]
        }
      ]
    },
    {
      "cell_type": "code",
      "source": [
        "print(f\"R-squared (R2): {r2}\")"
      ],
      "metadata": {
        "id": "96OHdYIJbgKZ",
        "outputId": "94a2da52-9e8c-4c83-c674-5f2be53bfa2d",
        "colab": {
          "base_uri": "https://localhost:8080/"
        }
      },
      "id": "96OHdYIJbgKZ",
      "execution_count": 32,
      "outputs": [
        {
          "output_type": "stream",
          "name": "stdout",
          "text": [
            "R-squared (R2): 0.750329747643131\n"
          ]
        }
      ]
    },
    {
      "cell_type": "markdown",
      "id": "229849b2",
      "metadata": {
        "id": "229849b2"
      },
      "source": [
        "### Preguntas de Reflexión (Evaluación)\n",
        "1. ¿Por qué comparamos las métricas en **Entrenamiento** vs **Prueba**?\n",
        "2. ¿Qué significa si el error en entrenamiento es **muy** distinto (mucho menor o mucho mayor) que en prueba?\n",
        "3. ¿Cómo interpretar un **R²** cercano a 1, cercano a 0 o incluso negativo?\n",
        "\n",
        "_Responde con tu razonamiento._"
      ]
    },
    {
      "cell_type": "markdown",
      "source": [
        "*PRIMERA*"
      ],
      "metadata": {
        "id": "pUy168B9b4aD"
      },
      "id": "pUy168B9b4aD"
    },
    {
      "cell_type": "markdown",
      "source": [
        "La comparación de métricas en Entrenamiento vs Prueba es fundamental para primero, detectar sobreajuste y subajuste, evaluar la capacidad de generalización del modelo, ajustar la complejidad del modelo para optimizar su rendimiento y obtener una estimación realista del rendimiento del modelo en datos nuevos.\n",
        "Comparar las métricas en Entrenamiento vs Prueba es crucial para evaluar la capacidad de generalización de un modelo de aprendizaje automático, como la regresión lineal."
      ],
      "metadata": {
        "id": "fbU09InAb6A6"
      },
      "id": "fbU09InAb6A6"
    },
    {
      "cell_type": "markdown",
      "source": [
        "*SEGUNDA*"
      ],
      "metadata": {
        "id": "ghW0X3v3eUf6"
      },
      "id": "ghW0X3v3eUf6"
    },
    {
      "cell_type": "markdown",
      "source": [
        "Error en entrenamiento << Error en prueba: Sobreajuste, el modelo no generaliza.\n",
        "\n",
        "Error en entrenamiento >> Error en prueba: Revisa la división de datos o el código de evaluación. Podría ser subajuste pero es menos probable."
      ],
      "metadata": {
        "id": "EPbxGbuUfH_r"
      },
      "id": "EPbxGbuUfH_r"
    },
    {
      "cell_type": "markdown",
      "source": [
        "*TERCERA*"
      ],
      "metadata": {
        "id": "rsW7KWfCfXRL"
      },
      "id": "rsW7KWfCfXRL"
    },
    {
      "cell_type": "markdown",
      "source": [
        "R² cercano a 1: Buen ajuste (pero revisa si hay sobreajuste).\n",
        "\n",
        "R² cercano a 0: Ajuste pobre, el modelo no explica mucho.\n",
        "\n",
        "R² negativo: Algo anda mal, revisa el modelo y los datos."
      ],
      "metadata": {
        "id": "9AXYcyxdfafa"
      },
      "id": "9AXYcyxdfafa"
    },
    {
      "cell_type": "markdown",
      "id": "e6b60a43",
      "metadata": {
        "id": "e6b60a43"
      },
      "source": [
        "### Pregunta de Reflexión (Residuos)\n",
        "Si observas un patrón claro en la gráfica de residuos (por ejemplo, forma de U), ¿qué podría indicar respecto a las **asunciones** de la regresión lineal?\n",
        "\n",
        "_Responde con tu razonamiento._"
      ]
    },
    {
      "cell_type": "markdown",
      "source": [
        "Un patrón en la gráfica de residuos, como una forma de U, es una señal de que las asunciones de la regresión lineal pueden no cumplirse. Esto indica que el modelo puede no ser el más adecuado para los datos y que se deben considerar otras opciones."
      ],
      "metadata": {
        "id": "Ulv7gtIbfldS"
      },
      "id": "Ulv7gtIbfldS"
    },
    {
      "cell_type": "markdown",
      "id": "f357cf0e",
      "metadata": {
        "id": "f357cf0e"
      },
      "source": [
        "## Paso 8: Interpretación y Conclusiones\n",
        "\n",
        "1. **Revisa** los coeficientes: ¿son consistentes con la lógica de negocio? (p.ej., si `ebit` aumenta, esperas que `y` aumente o disminuya?).\n",
        "2. **Observa** el nivel de error y R²: ¿el modelo es suficientemente bueno para su uso práctico?\n",
        "3. **Considera** la posibilidad de:\n",
        "   - Añadir más variables.\n",
        "   - Aplicar **regresiones polinómicas** (X², X³) si sospechas no linealidad.\n",
        "   - Usar **regularización** (Ridge, Lasso) si hay multicolinealidad o se requieren coeficientes más estables."
      ]
    },
    {
      "cell_type": "code",
      "source": [
        "print(\"Coeficientes:\", model.coef_)\n",
        "print(\"Nombres de las características:\", features)\n"
      ],
      "metadata": {
        "colab": {
          "base_uri": "https://localhost:8080/"
        },
        "id": "MvmcK46Mf83y",
        "outputId": "86fb4ad4-0d54-449c-bd40-3740df9199de"
      },
      "id": "MvmcK46Mf83y",
      "execution_count": 34,
      "outputs": [
        {
          "output_type": "stream",
          "name": "stdout",
          "text": [
            "Coeficientes: [ 0.0047738   0.64094621 -0.02482996 -0.11270797  0.04020249  0.41927139]\n",
            "Nombres de las características: ['revenues', 'ebit', 'depreciation', 'capex', 'ncwc', 'bv']\n"
          ]
        }
      ]
    },
    {
      "cell_type": "code",
      "source": [
        "ebit_coefficient_index = features.index('ebit')\n",
        "ebit_coefficient = model.coef_[ebit_coefficient_index]"
      ],
      "metadata": {
        "id": "iVHMED4Hf--r"
      },
      "id": "iVHMED4Hf--r",
      "execution_count": 35,
      "outputs": []
    },
    {
      "cell_type": "code",
      "source": [
        "print(f\"\\nCoeficiente de ebit: {ebit_coefficient}\")"
      ],
      "metadata": {
        "colab": {
          "base_uri": "https://localhost:8080/"
        },
        "id": "1tmMxEbWgAwT",
        "outputId": "76f373eb-3290-482f-ee1a-bc18b81e54cb"
      },
      "id": "1tmMxEbWgAwT",
      "execution_count": 37,
      "outputs": [
        {
          "output_type": "stream",
          "name": "stdout",
          "text": [
            "\n",
            "Coeficiente de ebit: 0.6409462052812269\n"
          ]
        }
      ]
    },
    {
      "cell_type": "code",
      "source": [
        "if ebit_coefficient > 0:\n",
        "  print(\"Si ebit aumenta, se espera que 'y' aumente.\")\n",
        "elif ebit_coefficient < 0:\n",
        "  print(\"Si ebit aumenta, se espera que 'y' disminuya.\")\n",
        "else:\n",
        "  print(\"Si ebit aumenta, se espera que 'y' no cambie.\")"
      ],
      "metadata": {
        "colab": {
          "base_uri": "https://localhost:8080/"
        },
        "id": "x-17t6d4gDK0",
        "outputId": "62d6294e-487f-4c4d-e0ef-7163bfdd8664"
      },
      "id": "x-17t6d4gDK0",
      "execution_count": 38,
      "outputs": [
        {
          "output_type": "stream",
          "name": "stdout",
          "text": [
            "Si ebit aumenta, se espera que 'y' aumente.\n"
          ]
        }
      ]
    },
    {
      "cell_type": "markdown",
      "source": [
        "Para determinar si el modelo es \"suficientemente bueno\" para su uso práctico, debemos evaluar los valores de MSE y R² en el contexto del problema. Sin estos valores, no podemos dar una conclusión definitiva. Si los valores de MSE y R² son altos, es probable que el modelo necesite mejoras. Se pueden considerar opciones como añadir más variables, aplicar regresiones polinómicas o usar regularización.\n",
        "\n"
      ],
      "metadata": {
        "id": "x_Ugo4VlgNQK"
      },
      "id": "x_Ugo4VlgNQK"
    },
    {
      "cell_type": "code",
      "source": [
        "import pandas as pd\n",
        "import numpy as np\n",
        "from sklearn.model_selection import train_test_split\n",
        "from sklearn.linear_model import LinearRegression, Ridge, Lasso\n",
        "from sklearn.preprocessing import PolynomialFeatures, StandardScaler\n",
        "from sklearn.metrics import mean_squared_error, r2_score, mean_absolute_error"
      ],
      "metadata": {
        "id": "czbQAjI8gdry"
      },
      "id": "czbQAjI8gdry",
      "execution_count": 39,
      "outputs": []
    },
    {
      "cell_type": "code",
      "source": [
        "poly = PolynomialFeatures(degree=3, include_bias=False) # Grado 3, se pueden probar diferentes grados\n",
        "X_poly = poly.fit_transform(X)"
      ],
      "metadata": {
        "id": "AhGNZozFgizj"
      },
      "id": "AhGNZozFgizj",
      "execution_count": 40,
      "outputs": []
    },
    {
      "cell_type": "code",
      "source": [
        "scaler = StandardScaler()\n",
        "X_poly_scaled = scaler.fit_transform(X_poly)\n",
        "\n",
        "X_train_poly, X_test_poly, y_train, y_test = train_test_split(X_poly_scaled, y, test_size=0.2, random_state=42)"
      ],
      "metadata": {
        "id": "PAtqDkhmgk8z"
      },
      "id": "PAtqDkhmgk8z",
      "execution_count": 41,
      "outputs": []
    },
    {
      "cell_type": "code",
      "source": [
        "models = {\n",
        "    \"Linear Regression\": LinearRegression(),\n",
        "    \"Ridge Regression\": Ridge(alpha=1.0),\n",
        "    \"Lasso Regression\": Lasso(alpha=1.0)\n",
        "}"
      ],
      "metadata": {
        "id": "Tok18UdTgnLb"
      },
      "id": "Tok18UdTgnLb",
      "execution_count": 42,
      "outputs": []
    },
    {
      "cell_type": "code",
      "source": [
        "results = {}\n",
        "for name, model in models.items():\n",
        "  model.fit(X_train_poly, y_train)\n",
        "  y_pred = model.predict(X_test_poly)\n",
        "  mse = mean_squared_error(y_test, y_pred)\n",
        "  r2 = r2_score(y_test, y_pred)\n",
        "  mae = mean_absolute_error(y_test, y_pred)\n",
        "  results[name] = {\"MSE\": mse, \"R2\": r2, \"MAE\": mae}\n",
        "  print(f\"Resultados para {name}:\")\n",
        "  print(f\"  MSE: {mse}\")\n",
        "  print(f\"  R2: {r2}\")\n",
        "  print(f\"  MAE: {mae}\")\n"
      ],
      "metadata": {
        "colab": {
          "base_uri": "https://localhost:8080/"
        },
        "id": "upJ4d9tugrrT",
        "outputId": "c1b0ade9-d563-4d67-fd13-fe409b7e9b33"
      },
      "id": "upJ4d9tugrrT",
      "execution_count": 43,
      "outputs": [
        {
          "output_type": "stream",
          "name": "stdout",
          "text": [
            "Resultados para Linear Regression:\n",
            "  MSE: 0.13674563423867617\n",
            "  R2: 0.852599851433099\n",
            "  MAE: 0.24511899182399596\n",
            "Resultados para Ridge Regression:\n",
            "  MSE: 0.13431747097813082\n",
            "  R2: 0.8552172046476402\n",
            "  MAE: 0.24429911013252176\n",
            "Resultados para Lasso Regression:\n",
            "  MSE: 0.9350795304984821\n",
            "  R2: -0.007936103296533936\n",
            "  MAE: 0.7740049034051456\n"
          ]
        }
      ]
    },
    {
      "cell_type": "code",
      "source": [
        "best_model = min(results, key=lambda k: results[k]['MSE'])\n",
        "print(f\"\\nMejor Modelo: {best_model} con MSE: {results[best_model]['MSE']}, R2: {results[best_model]['R2']}, MAE: {results[best_model]['MAE']}\")"
      ],
      "metadata": {
        "colab": {
          "base_uri": "https://localhost:8080/"
        },
        "id": "uv6mMMCoguaS",
        "outputId": "c4797a10-9add-4697-81f9-abb2435616c0"
      },
      "id": "uv6mMMCoguaS",
      "execution_count": 44,
      "outputs": [
        {
          "output_type": "stream",
          "name": "stdout",
          "text": [
            "\n",
            "Mejor Modelo: Ridge Regression con MSE: 0.13431747097813082, R2: 0.8552172046476402, MAE: 0.24429911013252176\n"
          ]
        }
      ]
    },
    {
      "cell_type": "markdown",
      "id": "48d0593a",
      "metadata": {
        "id": "48d0593a"
      },
      "source": [
        "### Preguntas de Reflexión Final\n",
        "1. ¿Crees que la Regresión Lineal Simple/Múltiple **captura adecuadamente** las relaciones en tus datos?\n",
        "2. ¿Qué otras técnicas (ej. árboles de decisión, bosques aleatorios, etc.) considerarías para comparar resultados?\n",
        "3. ¿El dataset es suficientemente grande y variado para hacer conclusiones robustas?\n",
        "\n",
        "_Responde con tu razonamiento._"
      ]
    },
    {
      "cell_type": "markdown",
      "source": [
        "*PRIMERA*"
      ],
      "metadata": {
        "id": "d-SxULaHgy5s"
      },
      "id": "d-SxULaHgy5s"
    },
    {
      "cell_type": "markdown",
      "source": [
        "la regresión lineal puede ser una buena opción para modelar relaciones lineales en los datos, pero es importante evaluar cuidadosamente el rendimiento del modelo y considerar otras opciones si es necesario."
      ],
      "metadata": {
        "id": "QLIeog1cg1xT"
      },
      "id": "QLIeog1cg1xT"
    },
    {
      "cell_type": "markdown",
      "source": [
        "*SEGUNDA*"
      ],
      "metadata": {
        "id": "r6POvdGtg5eL"
      },
      "id": "r6POvdGtg5eL"
    },
    {
      "cell_type": "markdown",
      "source": [
        "algunas técnicas alternativas para comparar resultados con la regresión lineal que se ha implementado:\n",
        "\n",
        "1. Árboles de Decisión:\n",
        " son modelos que utilizan una estructura de árbol para realizar predicciones. Dividen los datos en subconjuntos basados en las variables predictoras, creando un conjunto de reglas para la clasificación o regresión.\n",
        "\n",
        "2. Bosques Aleatorios (Random Forests):\n",
        "\n",
        "Los bosques aleatorios son un conjunto de árboles de decisión que se entrenan en diferentes subconjuntos de los datos y variables. La predicción final se obtiene promediando las predicciones de todos los árboles.\n",
        "3. Support Vector Machines (SVM):\n",
        "\n",
        "Busca un hiperplano que separa los datos en diferentes clases con el mayor margen posible. Puede ser utilizado para regresión utilizando una función kernel.\n",
        "\n",
        "4. Redes Neuronales:\n",
        "\n",
        "Las redes neuronales son modelos inspirados en el cerebro humano, que consisten en capas de nodos interconectados. Pueden ser utilizadas para regresión y clasificación."
      ],
      "metadata": {
        "id": "9aKWPQylg7T7"
      },
      "id": "9aKWPQylg7T7"
    },
    {
      "cell_type": "markdown",
      "source": [
        "*TERCERA*"
      ],
      "metadata": {
        "id": "nACcDGKWg7tD"
      },
      "id": "nACcDGKWg7tD"
    },
    {
      "cell_type": "markdown",
      "source": [
        "Sin más información sobre el tamaño y la variedad del dataset, es difícil determinar con certeza si es suficiente para hacer conclusiones robustas. Si tienes dudas, es mejor ser cauteloso al interpretar los resultados y considerar las recomendaciones mencionadas anteriormente.\n",
        "\n",
        "Recuerda que la calidad de las conclusiones depende no solo del tamaño y la variedad del dataset, sino también de la calidad de los datos, la elección del modelo y la correcta aplicación de las técnicas estadísticas."
      ],
      "metadata": {
        "id": "Jrrow5WQg91j"
      },
      "id": "Jrrow5WQg91j"
    },
    {
      "cell_type": "markdown",
      "id": "2d97d703",
      "metadata": {
        "id": "2d97d703"
      },
      "source": [
        "## Resumen\n",
        "En este Notebook hemos:\n",
        "1. **Explorado** los datos (EDA) y detectado posibles outliers.\n",
        "2. **Limpieza** de datos y transformaciones opcionales.\n",
        "3. **Seleccionado** variables y dividido en train/test.\n",
        "4. **Entrenado** un modelo de Regresión Lineal.\n",
        "5. **Evaluado** con MSE, MAE, R² y analizado residuos.\n",
        "6. **Reflexionado** sobre los coeficientes y conclusiones.\n",
        "\n",
        "¡Has completado un **análisis de regresión lineal** de forma integral! Para afianzar, puedes:\n",
        "- Ajustar parámetros (aunque la regresión lineal simple en sklearn no tiene muchos).\n",
        "- Comparar con otros modelos.\n",
        "- Realizar validación cruzada en lugar de una simple división train/test.\n",
        "\n",
        "¡Éxitos en tu proyecto de análisis!"
      ]
    }
  ],
  "metadata": {
    "kernelspec": {
      "display_name": "Python 3",
      "language": "python",
      "name": "python3"
    },
    "language_info": {
      "name": "python",
      "version": "3.9"
    },
    "colab": {
      "provenance": []
    }
  },
  "nbformat": 4,
  "nbformat_minor": 5
}